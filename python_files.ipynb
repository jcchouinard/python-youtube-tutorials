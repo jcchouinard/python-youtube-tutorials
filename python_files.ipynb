{
 "cells": [
  {
   "attachments": {},
   "cell_type": "markdown",
   "metadata": {},
   "source": [
    "# Python Tutorial: Read, Write and Delete Files\n",
    "\n",
    "By: jcchouinard.com\n",
    "\n",
    "-----"
   ]
  },
  {
   "attachments": {},
   "cell_type": "markdown",
   "metadata": {},
   "source": [
    "## Python Open Command"
   ]
  },
  {
   "cell_type": "code",
   "execution_count": 36,
   "metadata": {},
   "outputs": [
    {
     "name": "stdout",
     "output_type": "stream",
     "text": [
      "r\n"
     ]
    }
   ],
   "source": [
    "# Open file\n",
    "f = open('files/my_file.txt')\n",
    "\n",
    "# Show the open mode\n",
    "print(f.name)\n",
    "\n",
    "# Needs to be closed or it stays open\n",
    "f.close()"
   ]
  },
  {
   "attachments": {},
   "cell_type": "markdown",
   "metadata": {},
   "source": [
    "## File Handling \n",
    "\n",
    "The open() function takes 2 parameters: filename and mode.\n",
    "\n",
    "open(filename, mode)\n",
    "\n",
    "### Modes\n",
    "|parameter|description|\n",
    "|---|---|\n",
    "|`\"r\"`|Read|\n",
    "|`\"a\"`|Append|\n",
    "|`\"w\"`|Write|\n",
    "|`\"x\"`|Create|\n",
    "|`\"r+\"`|Read and Write|"
   ]
  },
  {
   "cell_type": "code",
   "execution_count": 37,
   "metadata": {},
   "outputs": [
    {
     "name": "stdout",
     "output_type": "stream",
     "text": [
      "w\n"
     ]
    }
   ],
   "source": [
    "# Open file in write mode\n",
    "f = open('files/file_0.txt','w')\n",
    "\n",
    "# Show the open mode\n",
    "print(f.mode)\n",
    "\n",
    "# Needs to be closed\n",
    "f.close()"
   ]
  },
  {
   "attachments": {},
   "cell_type": "markdown",
   "metadata": {},
   "source": [
    "## Closing Files"
   ]
  },
  {
   "cell_type": "code",
   "execution_count": 38,
   "metadata": {},
   "outputs": [
    {
     "data": {
      "text/plain": [
       "[<_io.TextIOWrapper name='files/file_0.txt' mode='w' encoding='UTF-8'>,\n",
       " <_io.TextIOWrapper name='files/file_1.txt' mode='w' encoding='UTF-8'>,\n",
       " <_io.TextIOWrapper name='files/file_2.txt' mode='w' encoding='UTF-8'>]"
      ]
     },
     "execution_count": 38,
     "metadata": {},
     "output_type": "execute_result"
    }
   ],
   "source": [
    "files = [open(f\"files/file_{n}.txt\", mode=\"w\") for n in range(3)]\n",
    "\n",
    "files"
   ]
  },
  {
   "cell_type": "code",
   "execution_count": 39,
   "metadata": {},
   "outputs": [
    {
     "name": "stdout",
     "output_type": "stream",
     "text": [
      "False\n",
      "False\n",
      "False\n"
     ]
    }
   ],
   "source": [
    "# The OS Can manage millions of files\n",
    "for f in files:\n",
    "    print(f.closed)"
   ]
  },
  {
   "cell_type": "code",
   "execution_count": 40,
   "metadata": {},
   "outputs": [
    {
     "name": "stdout",
     "output_type": "stream",
     "text": [
      "True\n",
      "True\n",
      "True\n"
     ]
    }
   ],
   "source": [
    "for f in files:\n",
    "    f.close()\n",
    "    print(f.closed)"
   ]
  },
  {
   "attachments": {},
   "cell_type": "markdown",
   "metadata": {},
   "source": [
    "## Context Manager\n",
    "\n",
    "Context managers are used to give and release resources at need before and after an operation that needs it.\n",
    "\n",
    "The `with` statement allows you to open and close a connection once the operation is done."
   ]
  },
  {
   "cell_type": "code",
   "execution_count": 42,
   "metadata": {},
   "outputs": [
    {
     "name": "stdout",
     "output_type": "stream",
     "text": [
      "files/my_file.txt\n",
      "True\n"
     ]
    }
   ],
   "source": [
    "# Open with context manager\n",
    "with open('files/my_file.txt', 'r') as f:\n",
    "    print(f.name)\n",
    "\n",
    "print(f.closed)"
   ]
  },
  {
   "attachments": {},
   "cell_type": "markdown",
   "metadata": {},
   "source": [
    "## Read File"
   ]
  },
  {
   "cell_type": "code",
   "execution_count": 43,
   "metadata": {},
   "outputs": [
    {
     "name": "stdout",
     "output_type": "stream",
     "text": [
      "1. Hello World\n",
      "2. My Name is:\n",
      "3. Jean-Christophe\n",
      "4. Read me at:\n",
      "5. jcchouinard.com\n"
     ]
    }
   ],
   "source": [
    "# Read a text file\n",
    "with open('files/my_file.txt', 'r') as f:\n",
    "    print(f.read())"
   ]
  },
  {
   "cell_type": "code",
   "execution_count": 45,
   "metadata": {},
   "outputs": [
    {
     "name": "stdout",
     "output_type": "stream",
     "text": [
      "1. Hello W\n"
     ]
    }
   ],
   "source": [
    "# Read up to a position\n",
    "with open('files/my_file.txt', 'r') as f:\n",
    "    print(f.read(10))"
   ]
  },
  {
   "cell_type": "code",
   "execution_count": 47,
   "metadata": {},
   "outputs": [
    {
     "name": "stdout",
     "output_type": "stream",
     "text": [
      "1. Hello World\n",
      "\n",
      "2. My Name is:\n",
      "\n"
     ]
    }
   ],
   "source": [
    "# Read a file line by line\n",
    "with open('files/my_file.txt', 'r') as f:\n",
    "    print(f.readline())\n",
    "    print(f.readline())"
   ]
  },
  {
   "cell_type": "code",
   "execution_count": 48,
   "metadata": {},
   "outputs": [
    {
     "name": "stdout",
     "output_type": "stream",
     "text": [
      "1. Hello World\n",
      "\n",
      "2. My Name is:\n",
      "\n",
      "3. Jean-Christophe\n",
      "\n",
      "4. Read me at:\n",
      "\n",
      "5. jcchouinard.com\n"
     ]
    }
   ],
   "source": [
    "# Loop line-by-line\n",
    "with open('files/my_file.txt', 'r') as f:\n",
    "    for line in f:\n",
    "        print(line)"
   ]
  },
  {
   "cell_type": "code",
   "execution_count": 50,
   "metadata": {},
   "outputs": [
    {
     "data": {
      "text/plain": [
       "['Montreal\\n',\n",
       " 'Tokyo\\n',\n",
       " 'Istanbul\\n',\n",
       " 'New-York\\n',\n",
       " 'London\\n',\n",
       " 'Melbourne\\n',\n",
       " 'Marrakesh']"
      ]
     },
     "execution_count": 50,
     "metadata": {},
     "output_type": "execute_result"
    }
   ],
   "source": [
    "# Read lines to list\n",
    "with open('files/my_list.txt', 'r') as f:\n",
    "    ls = f.readlines()\n",
    "ls"
   ]
  },
  {
   "cell_type": "code",
   "execution_count": 51,
   "metadata": {},
   "outputs": [
    {
     "data": {
      "text/plain": [
       "['Montreal',\n",
       " 'Tokyo',\n",
       " 'Istanbul',\n",
       " 'New-York',\n",
       " 'London',\n",
       " 'Melbourne',\n",
       " 'Marrakesh']"
      ]
     },
     "execution_count": 51,
     "metadata": {},
     "output_type": "execute_result"
    }
   ],
   "source": [
    "# Read lines to list\n",
    "with open('files/my_list.txt', 'r') as f:\n",
    "    content = f.read()\n",
    "    ls = content.split('\\n')\n",
    "ls"
   ]
  },
  {
   "attachments": {},
   "cell_type": "markdown",
   "metadata": {},
   "source": [
    "## Write to File"
   ]
  },
  {
   "cell_type": "code",
   "execution_count": 53,
   "metadata": {},
   "outputs": [
    {
     "ename": "UnsupportedOperation",
     "evalue": "not writable",
     "output_type": "error",
     "traceback": [
      "\u001b[0;31m---------------------------------------------------------------------------\u001b[0m",
      "\u001b[0;31mUnsupportedOperation\u001b[0m                      Traceback (most recent call last)",
      "\u001b[1;32m/Users/jchouinard/Documents/github_data/python-youtube-tutorials/python_files.ipynb Cell 20\u001b[0m in \u001b[0;36m<cell line: 2>\u001b[0;34m()\u001b[0m\n\u001b[1;32m      <a href='vscode-notebook-cell:/Users/jchouinard/Documents/github_data/python-youtube-tutorials/python_files.ipynb#X42sZmlsZQ%3D%3D?line=0'>1</a>\u001b[0m \u001b[39m# Append to a file\u001b[39;00m\n\u001b[1;32m      <a href='vscode-notebook-cell:/Users/jchouinard/Documents/github_data/python-youtube-tutorials/python_files.ipynb#X42sZmlsZQ%3D%3D?line=1'>2</a>\u001b[0m \u001b[39mwith\u001b[39;00m \u001b[39mopen\u001b[39m(\u001b[39m'\u001b[39m\u001b[39mfiles/my_file.txt\u001b[39m\u001b[39m'\u001b[39m, \u001b[39m'\u001b[39m\u001b[39mr\u001b[39m\u001b[39m'\u001b[39m) \u001b[39mas\u001b[39;00m f:\n\u001b[0;32m----> <a href='vscode-notebook-cell:/Users/jchouinard/Documents/github_data/python-youtube-tutorials/python_files.ipynb#X42sZmlsZQ%3D%3D?line=2'>3</a>\u001b[0m     f\u001b[39m.\u001b[39;49mwrite(\u001b[39m'\u001b[39;49m\u001b[39mTwitter: ChouinardJC\u001b[39;49m\u001b[39m'\u001b[39;49m)\n",
      "\u001b[0;31mUnsupportedOperation\u001b[0m: not writable"
     ]
    }
   ],
   "source": [
    "# The goal of the mode\n",
    "with open('files/my_file.txt', 'r') as f:\n",
    "    f.write('\\nTwitter: ChouinardJC')"
   ]
  },
  {
   "cell_type": "code",
   "execution_count": 56,
   "metadata": {},
   "outputs": [],
   "source": [
    "# Append to a file\n",
    "with open('files/my_file.txt', 'a') as f:\n",
    "    f.write('\\n6. Twitter: ChouinardJC')"
   ]
  },
  {
   "cell_type": "code",
   "execution_count": 2,
   "metadata": {},
   "outputs": [],
   "source": [
    "# Append to a file\n",
    "my_list = ['a','b','c']\n",
    "with open('files/writelines.txt', 'w') as f:\n",
    "    f.writelines(my_list)"
   ]
  },
  {
   "attachments": {},
   "cell_type": "markdown",
   "metadata": {},
   "source": [
    "## JSON Files"
   ]
  },
  {
   "cell_type": "code",
   "execution_count": 3,
   "metadata": {},
   "outputs": [],
   "source": [
    "# Write to JSON file\n",
    "import json\n",
    "\n",
    "data = {\n",
    "    'name': 'Jean-Christophe', \n",
    "    'website': 'jcchouinard.com'\n",
    "    }\n",
    "\n",
    "with open('files/my_file.json', 'w') as f:\n",
    "    json.dump(data, f, indent=4)"
   ]
  },
  {
   "cell_type": "code",
   "execution_count": 4,
   "metadata": {},
   "outputs": [
    {
     "data": {
      "text/plain": [
       "{'name': 'Jean-Christophe', 'website': 'jcchouinard.com'}"
      ]
     },
     "execution_count": 4,
     "metadata": {},
     "output_type": "execute_result"
    }
   ],
   "source": [
    "# Read JSON file\n",
    "with open('files/my_file.json', 'r') as f:\n",
    "    data = json.load(f)\n",
    "\n",
    "data"
   ]
  },
  {
   "attachments": {},
   "cell_type": "markdown",
   "metadata": {},
   "source": [
    "## Conclusion\n",
    "\n",
    "Help me and subscribe to this channel.\n",
    "\n",
    "Stay tuned for my upcoming Python for SEO course.\n",
    "\n",
    "### [jcchouinard.com](https://www.jcchouinard.com/)\n",
    "### [youtube.com/@jcchouinard](https://www.youtube.com/@jcchouinard)\n",
    "### [twitter.com/ChouinardJC](https://twitter.com/ChouinardJC)\n",
    "### [linkedin.com/in/jeanchristophechouinard](https://www.linkedin.com/in/jeanchristophechouinard)"
   ]
  }
 ],
 "metadata": {
  "kernelspec": {
   "display_name": "Python 3",
   "language": "python",
   "name": "python3"
  },
  "language_info": {
   "codemirror_mode": {
    "name": "ipython",
    "version": 3
   },
   "file_extension": ".py",
   "mimetype": "text/x-python",
   "name": "python",
   "nbconvert_exporter": "python",
   "pygments_lexer": "ipython3",
   "version": "3.10.6"
  },
  "orig_nbformat": 4,
  "vscode": {
   "interpreter": {
    "hash": "b0fa6594d8f4cbf19f97940f81e996739fb7646882a419484c72d19e05852a7e"
   }
  }
 },
 "nbformat": 4,
 "nbformat_minor": 2
}
