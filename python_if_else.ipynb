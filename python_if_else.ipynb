{
 "cells": [
  {
   "attachments": {},
   "cell_type": "markdown",
   "metadata": {},
   "source": [
    "# Python Tutorial: Python If... Elif, Else\n",
    "\n",
    "By: jcchouinard.com\n",
    "-----\n",
    "\n",
    "In Python, the `if`, `elif` and `else` statements are called control flow statements. \n",
    "\n",
    "The `if`, `elif` and `else` keywords are used to apply conditions for the Python code execution. \n",
    "\n",
    "(If condition, do something, else do something else.)\n",
    "\n",
    "The `if`, `elif` and `else` are used as a sequence `if... elif... elif... else...`.\n",
    "\n",
    "## If Statement\n",
    "The `if` statement is the statement of the control flow used to check if a condition is met.\n",
    "\n",
    "It is often used on conjunction with the optional `else` and `elif` statements. \n",
    "\n",
    "The `if` statment has the following structure:\n",
    "\n",
    "```\n",
    "if condition:\n",
    "    # do something\n",
    "```"
   ]
  },
  {
   "cell_type": "code",
   "execution_count": 6,
   "metadata": {},
   "outputs": [
    {
     "name": "stdout",
     "output_type": "stream",
     "text": [
      "Hello, JC\n",
      "{'name': <class 'str'>, 'return': <class 'str'>}\n"
     ]
    }
   ],
   "source": [
    "def say_hello(name: str) -> str:\n",
    "    \"\"\"\n",
    "    Takes a name as input and returns a message.\n",
    "    \"\"\"\n",
    "    return \"Hello, \" + name\n",
    "\n",
    "result = say_hello('JC')\n",
    "\n",
    "print(result)\n",
    "print(say_hello.__annotations__)"
   ]
  },
  {
   "cell_type": "code",
   "execution_count": 5,
   "metadata": {},
   "outputs": [
    {
     "name": "stdout",
     "output_type": "stream",
     "text": [
      "This is True\n"
     ]
    }
   ],
   "source": [
    "# Simple if Example\n",
    "if True:\n",
    "    print('This is True')"
   ]
  },
  {
   "attachments": {},
   "cell_type": "markdown",
   "metadata": {},
   "source": [
    "### The if block Must Be Indented"
   ]
  },
  {
   "cell_type": "code",
   "execution_count": 7,
   "metadata": {},
   "outputs": [
    {
     "ename": "IndentationError",
     "evalue": "expected an indented block after 'if' statement on line 2 (2146374989.py, line 3)",
     "output_type": "error",
     "traceback": [
      "\u001b[0;36m  Input \u001b[0;32mIn [7]\u001b[0;36m\u001b[0m\n\u001b[0;31m    print('This is True')\u001b[0m\n\u001b[0m    ^\u001b[0m\n\u001b[0;31mIndentationError\u001b[0m\u001b[0;31m:\u001b[0m expected an indented block after 'if' statement on line 2\n"
     ]
    }
   ],
   "source": [
    "# IndentationError\n",
    "if True:\n",
    "print('This is True')"
   ]
  },
  {
   "attachments": {},
   "cell_type": "markdown",
   "metadata": {},
   "source": [
    "## Else Statement\n",
    "The `else` statement is used to define code execution when none of the conditions are met.\n",
    "\n",
    "The `else` statement is optional.\n",
    "\n",
    "The `if` statment has the following structure:\n",
    "\n",
    "```\n",
    "if condition:\n",
    "    # do something\n",
    "else:\n",
    "    # do something else\n",
    "```"
   ]
  },
  {
   "cell_type": "code",
   "execution_count": 2,
   "metadata": {},
   "outputs": [
    {
     "name": "stdout",
     "output_type": "stream",
     "text": [
      "i is greater than 10\n"
     ]
    }
   ],
   "source": [
    "# Simple else Example\n",
    "i = 12\n",
    "if i < 10:\n",
    "    print('i is less than 10')\n",
    "else:\n",
    "    print('i is greater than 10')"
   ]
  },
  {
   "attachments": {},
   "cell_type": "markdown",
   "metadata": {},
   "source": [
    "## Elif Statement\n",
    "The `elif` statement is used to apply a new condition if the initial condition is not met.\n",
    "\n",
    "`elif` is short for `else if`.\n",
    "\n",
    "There can be zero or multiple `elif` statements to deepen the conditional logic."
   ]
  },
  {
   "cell_type": "code",
   "execution_count": 4,
   "metadata": {},
   "outputs": [
    {
     "name": "stdout",
     "output_type": "stream",
     "text": [
      "i is greater than 10\n"
     ]
    }
   ],
   "source": [
    "# Simple Elif Example\n",
    "i = 12\n",
    "if i < 2:\n",
    "    print('i is less than 2')\n",
    "elif i > 10:\n",
    "    print('i is greater than 10')\n",
    "else:\n",
    "    print('i is a number between 2 and 10')"
   ]
  },
  {
   "attachments": {},
   "cell_type": "markdown",
   "metadata": {},
   "source": [
    "## Logical Conditions\n",
    "\n",
    "Python supports logical conditions:\n",
    "\n",
    "- Equals: `a == b`\n",
    "- Not Equals: `a != b`\n",
    "- Less than: `a < b`\n",
    "- Greater than: `a > b`\n",
    "- Less than or equal to: `a <= b`\n",
    "- Greater than or equal to: `a >= b`"
   ]
  },
  {
   "cell_type": "code",
   "execution_count": 15,
   "metadata": {},
   "outputs": [
    {
     "name": "stdout",
     "output_type": "stream",
     "text": [
      "they are not equal\n"
     ]
    }
   ],
   "source": [
    "# Logical not equal\n",
    "if 10 != 2:\n",
    "    print('they are not equal')"
   ]
  },
  {
   "attachments": {},
   "cell_type": "markdown",
   "metadata": {},
   "source": [
    "## And... Or\n",
    "\n",
    "The `and` and `or` keywords are logical operators used to combine conditional statements."
   ]
  },
  {
   "cell_type": "code",
   "execution_count": 16,
   "metadata": {},
   "outputs": [
    {
     "name": "stdout",
     "output_type": "stream",
     "text": [
      "a is greater than b and smaller than c\n"
     ]
    }
   ],
   "source": [
    "# Example and\n",
    "a = 10\n",
    "b = 1\n",
    "c = 100\n",
    "if a > b and a < c:\n",
    "    print('a is greater than b and smaller than c')"
   ]
  },
  {
   "cell_type": "code",
   "execution_count": 18,
   "metadata": {},
   "outputs": [
    {
     "name": "stdout",
     "output_type": "stream",
     "text": [
      "a is eiter 0 or greater than b\n"
     ]
    }
   ],
   "source": [
    "# Example OR\n",
    "a = 0\n",
    "b = 10\n",
    "if a == 0 or a > b:\n",
    "    print('a is eiter 0 or greater than b')"
   ]
  },
  {
   "attachments": {},
   "cell_type": "markdown",
   "metadata": {},
   "source": [
    "## Not\n",
    "\n",
    "The `and` and `or` keywords are logical operators used to reverse the conditional statements."
   ]
  },
  {
   "cell_type": "code",
   "execution_count": 19,
   "metadata": {},
   "outputs": [
    {
     "name": "stdout",
     "output_type": "stream",
     "text": [
      "i equals 10\n"
     ]
    }
   ],
   "source": [
    "# Not operator\n",
    "i = 10\n",
    "if not i == 10:\n",
    "    print('i != 10')\n",
    "else:\n",
    "    print('i equals 10')"
   ]
  },
  {
   "cell_type": "code",
   "execution_count": 21,
   "metadata": {},
   "outputs": [
    {
     "name": "stdout",
     "output_type": "stream",
     "text": [
      "i equals 10\n"
     ]
    }
   ],
   "source": [
    "# Equivalent to\n",
    "# Not operator\n",
    "i = 10\n",
    "if  i != 10:\n",
    "    print('i != 10')\n",
    "else:\n",
    "    print('i equals 10')"
   ]
  },
  {
   "cell_type": "code",
   "execution_count": 20,
   "metadata": {},
   "outputs": [
    {
     "name": "stdout",
     "output_type": "stream",
     "text": [
      "1\n",
      "3\n",
      "4\n"
     ]
    }
   ],
   "source": [
    "# Useful in loops\n",
    "ls = [1,2,3,4]\n",
    "\n",
    "for i in ls:\n",
    "    if not i == 2:\n",
    "        print(i)"
   ]
  },
  {
   "attachments": {},
   "cell_type": "markdown",
   "metadata": {},
   "source": [
    "## IN\n",
    "\n",
    "The Python `in` keyword is used to:\n",
    "- used in a `if` conditional to check if a value is present in a sequence \n",
    "- iterate through a sequence in a `for` loop\n",
    "\n"
   ]
  },
  {
   "cell_type": "code",
   "execution_count": 24,
   "metadata": {},
   "outputs": [
    {
     "name": "stdout",
     "output_type": "stream",
     "text": [
      "i is present in the list\n"
     ]
    }
   ],
   "source": [
    "# Check if a value is present\n",
    "ls = [1,2,3]\n",
    "i = 1\n",
    "if i in ls:\n",
    "    print('i is present in the list')"
   ]
  },
  {
   "attachments": {},
   "cell_type": "markdown",
   "metadata": {},
   "source": [
    "## Nested If Statements\n",
    "Nested `if` statements are `if` statements that are added inside other `if` statements."
   ]
  },
  {
   "cell_type": "code",
   "execution_count": 23,
   "metadata": {},
   "outputs": [
    {
     "name": "stdout",
     "output_type": "stream",
     "text": [
      "hello\n"
     ]
    }
   ],
   "source": [
    "# Example Nested If Statement\n",
    "s = 'hello'\n",
    "if isinstance(s, str):\n",
    "    if 'e' in s:\n",
    "        print(s)"
   ]
  },
  {
   "attachments": {},
   "cell_type": "markdown",
   "metadata": {},
   "source": [
    "## Single-Line If Else Statements\n",
    "\n",
    "A single-line if statement in Python means that you are deleting the newline and the indentation.\n",
    "\n",
    "The code is the same, but on one line instead of two."
   ]
  },
  {
   "cell_type": "code",
   "execution_count": 8,
   "metadata": {},
   "outputs": [
    {
     "name": "stdout",
     "output_type": "stream",
     "text": [
      "i is greater than 2\n"
     ]
    }
   ],
   "source": [
    "# Short Hand If\n",
    "i = 10\n",
    "if i > 2: print(\"i is greater than 2\")"
   ]
  },
  {
   "attachments": {},
   "cell_type": "markdown",
   "metadata": {},
   "source": [
    "The one-line if statement must have a single line of code in the condition."
   ]
  },
  {
   "cell_type": "code",
   "execution_count": 13,
   "metadata": {},
   "outputs": [
    {
     "ename": "SyntaxError",
     "evalue": "invalid syntax (4234754685.py, line 3)",
     "output_type": "error",
     "traceback": [
      "\u001b[0;36m  Input \u001b[0;32mIn [13]\u001b[0;36m\u001b[0m\n\u001b[0;31m    if i > 2: print(\"i is greater than 2\") print('hello')\u001b[0m\n\u001b[0m                                           ^\u001b[0m\n\u001b[0;31mSyntaxError\u001b[0m\u001b[0;31m:\u001b[0m invalid syntax\n"
     ]
    }
   ],
   "source": [
    "# SyntaxError with One-line\n",
    "i = 10\n",
    "if i > 2: print(\"i is greater than 2\") print('hello')"
   ]
  },
  {
   "attachments": {},
   "cell_type": "markdown",
   "metadata": {},
   "source": [
    "## Ternary Operators in Python\n",
    "\n",
    "### One Line if...else \n",
    "\n",
    "1. value if true\n",
    "2. condition\n",
    "3. value if false\n",
    "\n",
    "`val_true if condition else val_false`\n",
    "\n"
   ]
  },
  {
   "cell_type": "code",
   "execution_count": null,
   "metadata": {},
   "outputs": [],
   "source": [
    "# Multi-line if-else\n",
    "i = 12\n",
    "if i < 10:\n",
    "    print('i is less than 10')\n",
    "else:\n",
    "    print('i is greater than 10')"
   ]
  },
  {
   "cell_type": "code",
   "execution_count": 14,
   "metadata": {},
   "outputs": [
    {
     "name": "stdout",
     "output_type": "stream",
     "text": [
      "i is greater than 10\n"
     ]
    }
   ],
   "source": [
    "# One-line if else with ternary operator\n",
    "i = 12\n",
    "print('i is less than 10') if i < 10 else print('i is greater than 10')"
   ]
  },
  {
   "attachments": {},
   "cell_type": "markdown",
   "metadata": {},
   "source": [
    "## Python pass\n",
    "\n",
    "An `if` statement can't be empty. Use the pass statement when creating an if statement with no value."
   ]
  },
  {
   "cell_type": "code",
   "execution_count": 26,
   "metadata": {},
   "outputs": [
    {
     "ename": "SyntaxError",
     "evalue": "incomplete input (3390326788.py, line 2)",
     "output_type": "error",
     "traceback": [
      "\u001b[0;36m  Input \u001b[0;32mIn [26]\u001b[0;36m\u001b[0m\n\u001b[0;31m    if True:\u001b[0m\n\u001b[0m            ^\u001b[0m\n\u001b[0;31mSyntaxError\u001b[0m\u001b[0;31m:\u001b[0m incomplete input\n"
     ]
    }
   ],
   "source": [
    "# SyntaxError: incomplete input\n",
    "if True:"
   ]
  },
  {
   "cell_type": "code",
   "execution_count": 27,
   "metadata": {},
   "outputs": [],
   "source": [
    "# pass\n",
    "if True:\n",
    "    pass"
   ]
  },
  {
   "attachments": {},
   "cell_type": "markdown",
   "metadata": {},
   "source": [
    "## Conclusion\n",
    "\n",
    "Help me and subscribe to this channel.\n",
    "\n",
    "Stay tuned for my upcoming Python for SEO course.\n",
    "\n",
    "### [jcchouinard.com](https://www.jcchouinard.com/)\n",
    "### [youtube.com/@jcchouinard](https://www.youtube.com/@jcchouinard)\n",
    "### [twitter.com/ChouinardJC](https://twitter.com/ChouinardJC)\n",
    "### [linkedin.com/in/jeanchristophechouinard](https://www.linkedin.com/in/jeanchristophechouinard)"
   ]
  }
 ],
 "metadata": {
  "kernelspec": {
   "display_name": "Python 3",
   "language": "python",
   "name": "python3"
  },
  "language_info": {
   "codemirror_mode": {
    "name": "ipython",
    "version": 3
   },
   "file_extension": ".py",
   "mimetype": "text/x-python",
   "name": "python",
   "nbconvert_exporter": "python",
   "pygments_lexer": "ipython3",
   "version": "3.10.6"
  },
  "orig_nbformat": 4,
  "vscode": {
   "interpreter": {
    "hash": "b0fa6594d8f4cbf19f97940f81e996739fb7646882a419484c72d19e05852a7e"
   }
  }
 },
 "nbformat": 4,
 "nbformat_minor": 2
}
