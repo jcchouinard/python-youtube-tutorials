{
 "cells": [
  {
   "attachments": {},
   "cell_type": "markdown",
   "metadata": {},
   "source": [
    "# Python Tutorial: Python Lambda Expressions\n",
    "\n",
    "By: jcchouinard.com\n",
    "\n",
    "-----\n",
    "\n",
    "## What is a Lambda Function in Python?\n",
    "\n",
    "The lambda function in Python is an anonymous expression, that is function without a function name. It can take none, or any number of arguments, but only has a single expression.\n",
    "\n",
    "A lambda is an anonymous expression, accessed like a function, but somewhat limited compared ot a Python function. \n",
    "\n",
    "It is a shorter way to define a simple function that has a single expression.\n",
    "\n",
    "## Python Lambda Syntax\n",
    "\n",
    "`lambda arguments : expression `\n",
    "\n",
    "- argument(s): any values to be passed to the lambda function\n",
    "- expression: Python expression to be executed\n",
    "\n",
    "### Example Python Lambda\n"
   ]
  },
  {
   "cell_type": "code",
   "execution_count": 1,
   "metadata": {},
   "outputs": [
    {
     "data": {
      "text/plain": [
       "<function __main__.<lambda>()>"
      ]
     },
     "execution_count": 1,
     "metadata": {},
     "output_type": "execute_result"
    }
   ],
   "source": [
    "# simple example of lambda\n",
    "lambda x: x + 1"
   ]
  },
  {
   "cell_type": "markdown",
   "metadata": {},
   "source": [
    "## Python Lambda Function Declaration\n",
    "\n",
    "To create a lambda function in Python, use the `lambda` keyword, the optional argument(s) and the expression. \n"
   ]
  },
  {
   "cell_type": "code",
   "execution_count": null,
   "metadata": {},
   "outputs": [],
   "source": [
    "# Python lambda function declaration\n",
    "lambda x, y, z: print(x, y, z)"
   ]
  },
  {
   "cell_type": "markdown",
   "metadata": {},
   "source": [
    "### Python Lambda Arguments are Optional"
   ]
  },
  {
   "cell_type": "code",
   "execution_count": 8,
   "metadata": {},
   "outputs": [
    {
     "data": {
      "text/plain": [
       "<function __main__.<lambda>()>"
      ]
     },
     "execution_count": 8,
     "metadata": {},
     "output_type": "execute_result"
    }
   ],
   "source": [
    "# Python Lambda Function without arguments\n",
    "lambda : print('I am a lambda function')"
   ]
  },
  {
   "cell_type": "markdown",
   "metadata": {},
   "source": [
    "### Assign the Python Lambda Function to a Variable\n",
    "\n"
   ]
  },
  {
   "cell_type": "code",
   "execution_count": 6,
   "metadata": {},
   "outputs": [
    {
     "data": {
      "text/plain": [
       "<function __main__.<lambda>()>"
      ]
     },
     "execution_count": 6,
     "metadata": {},
     "output_type": "execute_result"
    }
   ],
   "source": [
    "# Assign lambda to variable\n",
    "lambda_func = lambda : print('I am a lambda function')\n",
    "lambda_func\n"
   ]
  },
  {
   "cell_type": "markdown",
   "metadata": {},
   "source": [
    "### Execute the Lambda Function"
   ]
  },
  {
   "cell_type": "code",
   "execution_count": 7,
   "metadata": {},
   "outputs": [
    {
     "name": "stdout",
     "output_type": "stream",
     "text": [
      "I am a lambda function\n"
     ]
    }
   ],
   "source": [
    "# Execute the Lambda Function\n",
    "lambda_func()"
   ]
  },
  {
   "cell_type": "markdown",
   "metadata": {},
   "source": [
    "### Execute Lambda Function Without Assigning to Variable"
   ]
  },
  {
   "cell_type": "code",
   "execution_count": null,
   "metadata": {},
   "outputs": [],
   "source": [
    "# Surround Lambda with Parentheses\n",
    "(lambda x: x + 1)(4)"
   ]
  },
  {
   "cell_type": "markdown",
   "metadata": {},
   "source": [
    "### Adding Arguments to the Lambda Function in Python"
   ]
  },
  {
   "cell_type": "code",
   "execution_count": 9,
   "metadata": {},
   "outputs": [
    {
     "data": {
      "text/plain": [
       "2"
      ]
     },
     "execution_count": 9,
     "metadata": {},
     "output_type": "execute_result"
    }
   ],
   "source": [
    "# Adding a single argument to the lambda function\n",
    "single_arg = lambda x: x + 1\n",
    "\n",
    "# Call the lambda function\n",
    "single_arg(1)"
   ]
  },
  {
   "cell_type": "code",
   "execution_count": 10,
   "metadata": {},
   "outputs": [
    {
     "data": {
      "text/plain": [
       "4"
      ]
     },
     "execution_count": 10,
     "metadata": {},
     "output_type": "execute_result"
    }
   ],
   "source": [
    "# Adding a multiple arguments to the lambda function\n",
    "multi_args = lambda x, y: x + y\n",
    "\n",
    "# Call the lambda function\n",
    "multi_args(1, 3)"
   ]
  },
  {
   "cell_type": "markdown",
   "metadata": {},
   "source": [
    "## What Exactly Does Python Lambda Do?\n",
    "\n",
    "The Python Lambda function takes an argument and return the Python expression for that argument. \n",
    "\n",
    "This is similar to how identity functions (declared with `def`) are working, but without a name."
   ]
  },
  {
   "cell_type": "code",
   "execution_count": 11,
   "metadata": {},
   "outputs": [
    {
     "data": {
      "text/plain": [
       "True"
      ]
     },
     "execution_count": 11,
     "metadata": {},
     "output_type": "execute_result"
    }
   ],
   "source": [
    "# Lambda VS Def\n",
    "lambda_func = lambda x: x + 1 \n",
    "\n",
    "def def_func(x):\n",
    "    return x + 1\n",
    "\n",
    "lambda_func(2) == def_func(2)"
   ]
  },
  {
   "cell_type": "markdown",
   "metadata": {},
   "source": [
    "## Python Lambda Inside Functions \n",
    "\n",
    "Python supports functional programming where you can return a function as the result of another function.\n",
    "\n",
    "Incrementor creates a function that takes n as its argument."
   ]
  },
  {
   "cell_type": "code",
   "execution_count": 16,
   "metadata": {},
   "outputs": [
    {
     "name": "stdout",
     "output_type": "stream",
     "text": [
      "f + 2: 12\n",
      "f + 5: 15\n",
      "f2 + 2: 5\n",
      "f2 + 5: 8\n"
     ]
    }
   ],
   "source": [
    "# Lambda Function inside a Function\n",
    "def incrementor(n):\n",
    "  return lambda x: x + n\n",
    "\n",
    "# Set up the function argument\n",
    "f = incrementor(10)\n",
    "\n",
    "# Call the lambda function\n",
    "print('f + 2:', f(2))\n",
    "print('f + 5:', f(5))\n",
    "\n",
    "# Call the lambda function\n",
    "f2 = incrementor(3)\n",
    "print('f2 + 2:', f2(2))\n",
    "print('f2 + 5:', f2(5))"
   ]
  },
  {
   "cell_type": "markdown",
   "metadata": {},
   "source": [
    "## Why Use Python Lambda (with Examples)"
   ]
  },
  {
   "cell_type": "code",
   "execution_count": 17,
   "metadata": {},
   "outputs": [
    {
     "data": {
      "text/plain": [
       "[('c', 1), ('a', 2), ('b', 3)]"
      ]
     },
     "execution_count": 17,
     "metadata": {},
     "output_type": "execute_result"
    }
   ],
   "source": [
    "# Sorting a List of Python Tuples by the Second Element\n",
    "pairs = [(1, 'one'), (4, 'four'), (3, 'three'), (2, 'two')]\n",
    "sorted_pairs = sorted(pairs, key=lambda x: x[1])\n",
    "sorted_pairs"
   ]
  },
  {
   "cell_type": "code",
   "execution_count": 31,
   "metadata": {},
   "outputs": [
    {
     "name": "stdout",
     "output_type": "stream",
     "text": [
      "greater than 5\n",
      "smaller than 5\n"
     ]
    }
   ],
   "source": [
    "# Define a lambda function with if-else\n",
    "result = lambda x: 'greater than 5' if x > 5 else 'smaller than 5'\n",
    "\n",
    "# Test the lambda function\n",
    "print(result(7)) \n",
    "print(result(2)) "
   ]
  },
  {
   "cell_type": "code",
   "execution_count": 21,
   "metadata": {},
   "outputs": [
    {
     "data": {
      "text/plain": [
       "[0, 2, 4]"
      ]
     },
     "execution_count": 21,
     "metadata": {},
     "output_type": "execute_result"
    }
   ],
   "source": [
    "# Filter Even Numbers from a List\n",
    "# Filter(): filter elements from a list based on a specified condition.\n",
    "# Lambda == condition\n",
    "nums = list(range(6))\n",
    "even = list(filter(lambda x: x % 2 == 0, nums))\n",
    "even"
   ]
  },
  {
   "cell_type": "code",
   "execution_count": 23,
   "metadata": {},
   "outputs": [
    {
     "data": {
      "text/plain": [
       "[0, 1, 4, 9, 16, 25]"
      ]
     },
     "execution_count": 23,
     "metadata": {},
     "output_type": "execute_result"
    }
   ],
   "source": [
    "# Calculate Square of Elements in a List\n",
    "# Map(): apply a specified function to each item in an iterable\n",
    "squared = list(map(lambda x: x**2, nums))\n",
    "squared"
   ]
  },
  {
   "cell_type": "code",
   "execution_count": 24,
   "metadata": {},
   "outputs": [
    {
     "name": "stdout",
     "output_type": "stream",
     "text": [
      "15\n",
      "2.0\n"
     ]
    }
   ],
   "source": [
    "# Create simple calculators with Lambda\n",
    "add = lambda x, y: x + y\n",
    "subtract = lambda x, y: x - y\n",
    "multiply = lambda x, y: x * y\n",
    "divide = lambda x, y: x / y\n",
    "\n",
    "print(add(10,5))\n",
    "print(divide(10,5))"
   ]
  },
  {
   "cell_type": "code",
   "execution_count": 27,
   "metadata": {},
   "outputs": [
    {
     "data": {
      "text/plain": [
       "['example.com', 'gmail.com', 'yahoo.com']"
      ]
     },
     "execution_count": 27,
     "metadata": {},
     "output_type": "execute_result"
    }
   ],
   "source": [
    "# Get domain from emails\n",
    "emails = [\"user1@example.com\", \"user2@gmail.com\", \"user3@yahoo.com\"]\n",
    "domains = list(map(lambda email: email.split('@')[1], emails))\n",
    "domains"
   ]
  },
  {
   "cell_type": "code",
   "execution_count": 28,
   "metadata": {},
   "outputs": [
    {
     "name": "stdout",
     "output_type": "stream",
     "text": [
      "      name  score\n",
      "0    Alice    0.9\n",
      "1      Bob    0.7\n",
      "2  Charlie    0.5\n",
      "3    David    0.8\n"
     ]
    },
    {
     "data": {
      "text/html": [
       "<div>\n",
       "<style scoped>\n",
       "    .dataframe tbody tr th:only-of-type {\n",
       "        vertical-align: middle;\n",
       "    }\n",
       "\n",
       "    .dataframe tbody tr th {\n",
       "        vertical-align: top;\n",
       "    }\n",
       "\n",
       "    .dataframe thead th {\n",
       "        text-align: right;\n",
       "    }\n",
       "</style>\n",
       "<table border=\"1\" class=\"dataframe\">\n",
       "  <thead>\n",
       "    <tr style=\"text-align: right;\">\n",
       "      <th></th>\n",
       "      <th>name</th>\n",
       "      <th>score</th>\n",
       "      <th>score_perc</th>\n",
       "    </tr>\n",
       "  </thead>\n",
       "  <tbody>\n",
       "    <tr>\n",
       "      <th>0</th>\n",
       "      <td>Alice</td>\n",
       "      <td>0.9</td>\n",
       "      <td>90%</td>\n",
       "    </tr>\n",
       "    <tr>\n",
       "      <th>1</th>\n",
       "      <td>Bob</td>\n",
       "      <td>0.7</td>\n",
       "      <td>70%</td>\n",
       "    </tr>\n",
       "    <tr>\n",
       "      <th>2</th>\n",
       "      <td>Charlie</td>\n",
       "      <td>0.5</td>\n",
       "      <td>50%</td>\n",
       "    </tr>\n",
       "    <tr>\n",
       "      <th>3</th>\n",
       "      <td>David</td>\n",
       "      <td>0.8</td>\n",
       "      <td>80%</td>\n",
       "    </tr>\n",
       "  </tbody>\n",
       "</table>\n",
       "</div>"
      ],
      "text/plain": [
       "      name  score score_perc\n",
       "0    Alice    0.9        90%\n",
       "1      Bob    0.7        70%\n",
       "2  Charlie    0.5        50%\n",
       "3    David    0.8        80%"
      ]
     },
     "execution_count": 28,
     "metadata": {},
     "output_type": "execute_result"
    }
   ],
   "source": [
    "# Apply Lambda Function to a DataFrame\n",
    "import pandas as pd\n",
    "\n",
    "# Create a dictionary with data\n",
    "data = {\n",
    "    'name': ['Alice', 'Bob', 'Charlie', 'David'],\n",
    "    'score': [0.9, 0.7, 0.5, 0.8],\n",
    "}\n",
    "\n",
    "# Create a DataFrame from the dictionary\n",
    "df = pd.DataFrame(data)\n",
    "\n",
    "# Print the DataFrame\n",
    "print(df)\n",
    "\n",
    "df['score_perc'] = df['score'].apply(lambda x: f'{int(x*100)}%')\n",
    "df"
   ]
  },
  {
   "cell_type": "code",
   "execution_count": 1,
   "metadata": {},
   "outputs": [
    {
     "name": "stdout",
     "output_type": "stream",
     "text": [
      "Decorated: Hello, Lambda!\n"
     ]
    }
   ],
   "source": [
    "# Decorator function that takes a lambda function as an argument\n",
    "def my_decorator(lambda_function):\n",
    "    def wrapper():\n",
    "        result = lambda_function()\n",
    "        return f\"Decorated: {result}\"\n",
    "    return wrapper\n",
    "\n",
    "# Lambda function that simply returns a string\n",
    "my_lambda = lambda: \"Hello, Lambda!\"\n",
    "\n",
    "# Applying the decorator to the lambda function\n",
    "decorated_lambda = my_decorator(my_lambda)\n",
    "\n",
    "# Calling the decorated lambda function\n",
    "print(decorated_lambda())  # Output: Decorated: Hello, Lambda!\n"
   ]
  },
  {
   "attachments": {},
   "cell_type": "markdown",
   "metadata": {},
   "source": [
    "## Conclusion\n",
    "\n",
    "Help me and subscribe to this channel.\n",
    "\n",
    "Stay tuned for my upcoming Python for SEO course.\n",
    "\n",
    "### [jcchouinard.com](https://www.jcchouinard.com/)\n",
    "### [youtube.com/@jcchouinard](https://www.youtube.com/@jcchouinard)\n",
    "### [twitter.com/ChouinardJC](https://twitter.com/ChouinardJC)\n",
    "### [linkedin.com/in/jeanchristophechouinard](https://www.linkedin.com/in/jeanchristophechouinard)\n"
   ]
  }
 ],
 "metadata": {
  "kernelspec": {
   "display_name": "Python 3",
   "language": "python",
   "name": "python3"
  },
  "language_info": {
   "codemirror_mode": {
    "name": "ipython",
    "version": 3
   },
   "file_extension": ".py",
   "mimetype": "text/x-python",
   "name": "python",
   "nbconvert_exporter": "python",
   "pygments_lexer": "ipython3",
   "version": "3.12.2"
  },
  "orig_nbformat": 4,
  "vscode": {
   "interpreter": {
    "hash": "b0fa6594d8f4cbf19f97940f81e996739fb7646882a419484c72d19e05852a7e"
   }
  }
 },
 "nbformat": 4,
 "nbformat_minor": 2
}
