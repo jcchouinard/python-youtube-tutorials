{
    "cells": [
        {
            "attachments": {},
            "cell_type": "markdown",
            "metadata": {},
            "source": [
                "# How to Debug Most Common Errors and Exceptions in Python (with Examples)\n",
                "\n",
                "By: jcchouinard.com\n",
                "\n",
                "------------------\n",
                "\n",
                "In this tutorial, we will learn about the most common things that can go wrong with your code. We will also learn how to read and debug Python errors (traceback).\n",
                "\n",
                "\n",
                "## Reading the Python Error (Traceback)\n",
                "When you have an exception in your Python code, you will get a traceback. A traceback is a message telling you what exception happened and where it happened.\n",
                "\n",
                "If you are interested in learning more, you can read my tutorial on reading the Python traceback.\n",
                "\n"
            ]
        },
        {
            "cell_type": "code",
            "execution_count": 2,
            "metadata": {},
            "outputs": [
                {
                    "ename": "NameError",
                    "evalue": "name 'name' is not defined",
                    "output_type": "error",
                    "traceback": [
                        "\u001b[0;31m---------------------------------------------------------------------------\u001b[0m",
                        "\u001b[0;31mNameError\u001b[0m                                 Traceback (most recent call last)",
                        "Cell \u001b[0;32mIn[2], line 2\u001b[0m\n\u001b[1;32m      1\u001b[0m \u001b[38;5;28;01mfrom\u001b[39;00m \u001b[38;5;21;01mcode_with_error\u001b[39;00m \u001b[38;5;28;01mimport\u001b[39;00m make_hello\n\u001b[0;32m----> 2\u001b[0m \u001b[43mmake_hello\u001b[49m\u001b[43m(\u001b[49m\u001b[43m)\u001b[49m\n",
                        "File \u001b[0;32m~/Documents/github_data/python-youtube-tutorials/code_with_error.py:2\u001b[0m, in \u001b[0;36mmake_hello\u001b[0;34m()\u001b[0m\n\u001b[1;32m      1\u001b[0m \u001b[38;5;28;01mdef\u001b[39;00m \u001b[38;5;21mmake_hello\u001b[39m():\n\u001b[0;32m----> 2\u001b[0m     \u001b[38;5;28mprint\u001b[39m(\u001b[38;5;124m'\u001b[39m\u001b[38;5;124mhello\u001b[39m\u001b[38;5;124m'\u001b[39m \u001b[38;5;241m+\u001b[39m \u001b[43mname\u001b[49m)\n",
                        "\u001b[0;31mNameError\u001b[0m: name 'name' is not defined"
                    ]
                }
            ],
            "source": [
                "from code_with_error import make_hello\n",
                "make_hello()"
            ]
        },
        {
            "cell_type": "markdown",
            "metadata": {},
            "source": [
                "![](https://www.jcchouinard.com/wp-content/uploads/2023/11/Python-Traceback-2048x1152.png)\n"
            ]
        },
        {
            "cell_type": "markdown",
            "metadata": {},
            "source": [
                "## Main Exception Types\n",
                "\n",
                "| Exception Type    | Description                                                                                  | Examples of Exception Names                         |\n",
                "|-------------------|----------------------------------------------------------------------------------------------|----------------------------------------------------|\n",
                "| **Syntax Errors** | Python parser finds invalid syntax. Blocks code from running.                               | `SyntaxError`, `IndentationError`                  |\n",
                "| **Exceptions**    | Code has the right syntax but gets an error that breaks code execution during runtime.      | `ZeroDivisionError`, `ValueError`, `TypeError`, `ModuleNotFoundError` |\n",
                "| **Logical Errors**| No syntax or runtime error, but the logic is flawed, leading to incorrect results.         | N/A (logical errors do not raise exceptions)       |\n"
            ]
        },
        {
            "cell_type": "code",
            "execution_count": null,
            "metadata": {},
            "outputs": [],
            "source": [
                "# Syntax Error\n",
                "while True \n",
                "    print(1)"
            ]
        },
        {
            "cell_type": "code",
            "execution_count": null,
            "metadata": {},
            "outputs": [],
            "source": [
                "# Exception: Runtime error\n",
                "zero_division = 9 / 0"
            ]
        },
        {
            "cell_type": "code",
            "execution_count": null,
            "metadata": {},
            "outputs": [],
            "source": [
                "# logical error\n",
                "a = 5\n",
                "b = 10\n",
                "print('Logical error:', a + b * 2) \n",
                "print('Fixed error:', (a + b) * 2) "
            ]
        },
        {
            "cell_type": "markdown",
            "metadata": {},
            "source": [
                "## Most Common Exceptions in Python\n",
                "\n",
                "1. SyntaxError\n",
                "2. IndentationError\n",
                "3. ValueError\n",
                "4. ModuleNotFoundError\n",
                "5. IndexError\n",
                "6. AttributeError\n",
                "7. TypeError\n",
                "8. NameError\n",
                "9. IOError\n",
                "10. KeyError\n"
            ]
        },
        {
            "cell_type": "code",
            "execution_count": null,
            "metadata": {},
            "outputs": [],
            "source": [
                "# view the types of exceptions\n",
                "print(dir(locals()['__builtins__']))"
            ]
        },
        {
            "cell_type": "markdown",
            "metadata": {},
            "source": [
                "### SyntaxError\n",
                "A `SyntaxError` in Python is an exception that is raised when there is an error with the syntax of the programming language. \n",
                "\n",
                "Similar to how missing a dot at the end of a sentence would be an error in the English language, missing a colon could trigger a `SyntaxError` in Python.\n",
                "\n",
                "Here are some simple `SyntaxError` examples in Python:"
            ]
        },
        {
            "cell_type": "code",
            "execution_count": null,
            "metadata": {},
            "outputs": [],
            "source": [
                "# Missing Colon\n",
                "if condition  # Missing colon\n",
                "    # do something"
            ]
        },
        {
            "cell_type": "code",
            "execution_count": null,
            "metadata": {},
            "outputs": [],
            "source": [
                "# Unclosed String\n",
                "my_string = \"This is an unclosed string  # Missing closing quote"
            ]
        },
        {
            "cell_type": "markdown",
            "metadata": {},
            "source": [
                "### IndentationError\n",
                "The `IndentationError` exception generally happens in Python when creating if…else blocks, defining a function, using loops, or creating other blocks such as try… except statements. It most often occurs when there is no indentation, or when there is uneven indentation."
            ]
        },
        {
            "cell_type": "code",
            "execution_count": null,
            "metadata": {},
            "outputs": [],
            "source": [
                "# Not indented if block\n",
                "if True:\n",
                "print('not indented')"
            ]
        },
        {
            "cell_type": "code",
            "execution_count": null,
            "metadata": {},
            "outputs": [],
            "source": [
                "def funct():\n",
                "    print(\"Properly indented\")\n",
                "   print(\"Uneven indentation\")"
            ]
        },
        {
            "cell_type": "markdown",
            "metadata": {},
            "source": [
                "### ValueError\n",
                "In Python, a `ValueError` most often occurs when Python fails to make the conversion of one data type to another."
            ]
        },
        {
            "cell_type": "code",
            "execution_count": null,
            "metadata": {},
            "outputs": [],
            "source": [
                "# Conversion Errors\n",
                "int(\"hello\")"
            ]
        },
        {
            "cell_type": "code",
            "execution_count": null,
            "metadata": {},
            "outputs": [],
            "source": [
                "float(\"3.14.159\")  "
            ]
        },
        {
            "cell_type": "markdown",
            "metadata": {},
            "source": [
                "### ModuleNotFoundError\n",
                "The `ModuleNotFoundError` exception happens when a library was imported but was not installed, or when the module was incorrectly cased or misspelled."
            ]
        },
        {
            "cell_type": "code",
            "execution_count": null,
            "metadata": {},
            "outputs": [],
            "source": [
                "# Importing a package that was not installed\n",
                "import requests_html"
            ]
        },
        {
            "cell_type": "code",
            "execution_count": null,
            "metadata": {
                "vscode": {
                    "languageId": "bat"
                }
            },
            "outputs": [],
            "source": [
                "$ pip install <module-name>"
            ]
        },
        {
            "cell_type": "code",
            "execution_count": null,
            "metadata": {},
            "outputs": [],
            "source": [
                "# Misspelling import\n",
                "import pandu"
            ]
        },
        {
            "cell_type": "code",
            "execution_count": null,
            "metadata": {},
            "outputs": [],
            "source": [
                "# Wrong casing\n",
                "import Pandas as pd"
            ]
        },
        {
            "cell_type": "markdown",
            "metadata": {},
            "source": [
                "### IndexError\n",
                "An `IndexError` occurs when you try to access an index that is out of range for a list or other indexable object.\n"
            ]
        },
        {
            "cell_type": "code",
            "execution_count": null,
            "metadata": {},
            "outputs": [],
            "source": [
                "my_list = [1, 2, 3]\n",
                "print(my_list[3])  # IndexError: list index out of range"
            ]
        },
        {
            "cell_type": "markdown",
            "metadata": {},
            "source": [
                "### AttributeError\n",
                "An `AttributeError` is raised when an invalid attribute reference is made for an object. This can happen if an attribute does not exist."
            ]
        },
        {
            "cell_type": "code",
            "execution_count": null,
            "metadata": {},
            "outputs": [],
            "source": [
                "my_list = [1, 2, 3]\n",
                "my_list.append(4)\n",
                "my_list.add(5)"
            ]
        },
        {
            "cell_type": "markdown",
            "metadata": {},
            "source": [
                "### TypeError\n",
                "A `TypeError` occurs when an operation or function is applied to an object of inappropriate type.\n",
                "\n",
                "- Mismatched types in arithmetic operations\n",
                "- Indexing a non-indexable object\n",
                "- Calling a non-callable object\n",
                "- Using None in operations\n",
                "- Incompatible types in comparisons\n",
                "- Incorrect dictionary key type\n",
                "- Type mismatch in built-in functions"
            ]
        },
        {
            "cell_type": "code",
            "execution_count": null,
            "metadata": {},
            "outputs": [],
            "source": [
                "# Mismatched types in arithmetic operations\n",
                "# Adding a string to an integer\n",
                "result = \"Hello\" + 5"
            ]
        },
        {
            "cell_type": "code",
            "execution_count": null,
            "metadata": {},
            "outputs": [],
            "source": [
                "# Indexing a Non-Indexable Object\n",
                "# Indexing a data type that does not support it\n",
                "my_number = 123\n",
                "print(my_number[0]) "
            ]
        },
        {
            "cell_type": "code",
            "execution_count": null,
            "metadata": {},
            "outputs": [],
            "source": [
                "# Calling a Non-Callable Object\n",
                "my_list = [1, 2, 3]\n",
                "my_list() "
            ]
        },
        {
            "cell_type": "code",
            "execution_count": null,
            "metadata": {},
            "outputs": [],
            "source": [
                "# Using None in Operations\n",
                "total = None\n",
                "total += 5"
            ]
        },
        {
            "cell_type": "code",
            "execution_count": null,
            "metadata": {},
            "outputs": [],
            "source": [
                "# Incompatible Types in Comparisons\n",
                "result = \"apple\" < 5 "
            ]
        },
        {
            "cell_type": "code",
            "execution_count": null,
            "metadata": {},
            "outputs": [],
            "source": [
                "# Incorrect Dictionary Key Type\n",
                "my_dict = {}\n",
                "my_dict[[1, 2, 3]] = \"value\" "
            ]
        },
        {
            "cell_type": "code",
            "execution_count": null,
            "metadata": {},
            "outputs": [],
            "source": [
                "# Type Mismatch in Built-in Functions\n",
                "int(\"3.14\") "
            ]
        },
        {
            "cell_type": "markdown",
            "metadata": {},
            "source": [
                "### NameError\n",
                "A `NameError` is raised when a variable is not defined or not available in the local or global namespace."
            ]
        },
        {
            "cell_type": "code",
            "execution_count": null,
            "metadata": {},
            "outputs": [],
            "source": [
                "print(my_variable)"
            ]
        },
        {
            "cell_type": "markdown",
            "metadata": {},
            "source": [
                "### IOError\n",
                "An `IOError` occurs when an input/output operation fails, such as when trying to open a file that does not exist.\n"
            ]
        },
        {
            "cell_type": "code",
            "execution_count": null,
            "metadata": {},
            "outputs": [],
            "source": [
                "with open(\"non_existent_file.txt\") as f:\n",
                "    content = f.read()"
            ]
        },
        {
            "cell_type": "markdown",
            "metadata": {},
            "source": [
                "### KeyError\n",
                "A `KeyError` occurs when trying to access a key that is not present in a dictionary."
            ]
        },
        {
            "cell_type": "code",
            "execution_count": null,
            "metadata": {},
            "outputs": [],
            "source": [
                "my_dict = {'a': 1, 'b': 2}\n",
                "print(my_dict['c'])"
            ]
        },
        {
            "cell_type": "markdown",
            "metadata": {},
            "source": [
                "## Preventing Runtime Errors with Try… Except\n",
                "To prevent runtime errors in Python, you can use the `try… except` statements, which will work for exceptions that are not syntax-related (such as `SyntaxError`, `IndentationError`)."
            ]
        },
        {
            "cell_type": "code",
            "execution_count": null,
            "metadata": {},
            "outputs": [],
            "source": [
                "try:\n",
                "    print(1 / 0)\n",
                "except Exception as e:\n",
                "    print(e)  # Output: division by zero"
            ]
        },
        {
            "attachments": {},
            "cell_type": "markdown",
            "metadata": {},
            "source": [
                "## Conclusion\n",
                "\n",
                "Help me and subscribe to this channel.\n",
                "\n",
                "Stay tuned for my upcoming Python for SEO course.\n",
                "\n",
                "### [jcchouinard.com](https://www.jcchouinard.com/)\n",
                "### [youtube.com/@jcchouinard](https://www.youtube.com/@jcchouinard)\n",
                "### [twitter.com/ChouinardJC](https://twitter.com/ChouinardJC)\n",
                "### [linkedin.com/in/jeanchristophechouinard](https://www.linkedin.com/in/jeanchristophechouinard)\n"
            ]
        }
    ],
    "metadata": {
        "kernelspec": {
            "display_name": "Python 3",
            "language": "python",
            "name": "python3"
        },
        "language_info": {
            "codemirror_mode": {
                "name": "ipython",
                "version": 3
            },
            "file_extension": ".py",
            "mimetype": "text/x-python",
            "name": "python",
            "nbconvert_exporter": "python",
            "pygments_lexer": "ipython3",
            "version": "3.12.2"
        },
        "orig_nbformat": 4,
        "vscode": {
            "interpreter": {
                "hash": "b0fa6594d8f4cbf19f97940f81e996739fb7646882a419484c72d19e05852a7e"
            }
        }
    },
    "nbformat": 4,
    "nbformat_minor": 2
}
