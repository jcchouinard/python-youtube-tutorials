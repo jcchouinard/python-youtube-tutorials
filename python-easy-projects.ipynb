{
 "cells": [
  {
   "attachments": {},
   "cell_type": "markdown",
   "metadata": {},
   "source": [
    "# Python Tutorial: Easy Python Projects\n",
    "\n",
    "By: jcchouinard.com\n",
    "\n",
    "-----\n",
    "\n",
    "## Simple Python Projects\n",
    "\n",
    "1. Read and store CSVs \n",
    "2. Web Scraping\n",
    "3. Parse text with Regular Expressions\n",
    "4. Parse URLs\n",
    "5. Find Entities in Content with NLP\n",
    "6. Wikipedia and Reddit APIs\n",
    "7. Read sitemap\n",
    "\n",
    "\n",
    "`$ pip3 install pandas advertools requests bs4`\n"
   ]
  },
  {
   "cell_type": "markdown",
   "metadata": {},
   "source": [
    "## Web Scraping"
   ]
  },
  {
   "cell_type": "code",
   "execution_count": 15,
   "metadata": {},
   "outputs": [
    {
     "data": {
      "text/plain": [
       "<title>Countries of the World: A Simple Example | Scrape This Site | A public sandbox for learning web scraping</title>"
      ]
     },
     "execution_count": 15,
     "metadata": {},
     "output_type": "execute_result"
    }
   ],
   "source": [
    "import requests\n",
    "from bs4 import BeautifulSoup\n",
    "\n",
    "# Fetch URL\n",
    "r = requests.get('https://www.scrapethissite.com/pages/simple/')\n",
    "\n",
    "# Parse HTML\n",
    "soup = BeautifulSoup(r.text, 'html.parser')\n",
    "title = soup.find('title')\n",
    "title"
   ]
  },
  {
   "cell_type": "code",
   "execution_count": 24,
   "metadata": {},
   "outputs": [
    {
     "data": {
      "text/plain": [
       "['Andorra',\n",
       " 'United Arab Emirates',\n",
       " 'Afghanistan',\n",
       " 'Antigua and Barbuda',\n",
       " 'Anguilla',\n",
       " 'Albania',\n",
       " 'Armenia',\n",
       " 'Angola',\n",
       " 'Antarctica',\n",
       " 'Argentina']"
      ]
     },
     "execution_count": 24,
     "metadata": {},
     "output_type": "execute_result"
    }
   ],
   "source": [
    "h3s = soup.find_all('h3')\n",
    "results = []\n",
    "for h3 in h3s:\n",
    "    results.append(h3.text.strip())\n",
    "results[:10]"
   ]
  },
  {
   "cell_type": "code",
   "execution_count": 17,
   "metadata": {},
   "outputs": [],
   "source": [
    "def get_title(url):\n",
    "    r = requests.get(url)\n",
    "    soup = BeautifulSoup(r.text, 'html.parser')\n",
    "    title = soup.find('title')\n",
    "    print(title.text)"
   ]
  },
  {
   "cell_type": "code",
   "execution_count": 25,
   "metadata": {},
   "outputs": [
    {
     "name": "stdout",
     "output_type": "stream",
     "text": [
      "Oscar Winning Films: AJAX and Javascript | Scrape This Site | A public sandbox for learning web scraping\n",
      "Hockey Teams: Forms, Searching and Pagination | Scrape This Site | A public sandbox for learning web scraping\n",
      "Countries of the World: A Simple Example | Scrape This Site | A public sandbox for learning web scraping\n"
     ]
    }
   ],
   "source": [
    "import requests\n",
    "from bs4 import BeautifulSoup\n",
    "\n",
    "def get_title(url):\n",
    "    r = requests.get(url)\n",
    "    soup = BeautifulSoup(r.text, 'html.parser')\n",
    "    title = soup.find('title')\n",
    "    print(title.text)\n",
    "    return title.text\n",
    "\n",
    "urls = [\n",
    "    'https://www.scrapethissite.com/pages/ajax-javascript/',\n",
    "    'https://www.scrapethissite.com/pages/forms/',\n",
    "    'https://www.scrapethissite.com/pages/simple/'\n",
    "]\n",
    "\n",
    "titles = []\n",
    "for url in urls:\n",
    "    title = get_title(url)\n",
    "    titles.append(title)"
   ]
  },
  {
   "cell_type": "markdown",
   "metadata": {},
   "source": [
    "## Parse Text with Regular Expression"
   ]
  },
  {
   "cell_type": "code",
   "execution_count": 37,
   "metadata": {},
   "outputs": [
    {
     "name": "stdout",
     "output_type": "stream",
     "text": [
      "('Oscar Winning Films', 'AJAX and Javascript')\n",
      "('Hockey Teams', 'Forms, Searching and Pagination')\n",
      "('Countries of the World', 'A Simple Example')\n"
     ]
    }
   ],
   "source": [
    "import re \n",
    "\n",
    "titles = [\n",
    "    'Oscar Winning Films: AJAX and Javascript | Scrape This Site | A public sandbox for learning web scraping',\n",
    "    'Hockey Teams: Forms, Searching and Pagination | Scrape This Site | A public sandbox for learning web scraping',\n",
    "    'Countries of the World: A Simple Example | Scrape This Site | A public sandbox for learning web scraping'\n",
    "    ]\n",
    "\n",
    "# Any alphanumeric, whitespace or comma\n",
    "pattern = '(.*):([\\w\\s,]+)\\|.*' \n",
    "\n",
    "for title in titles:\n",
    "    extracted_text = re.search(pattern, title)\n",
    "    print((\n",
    "            extracted_text.group(1).strip(),\n",
    "            extracted_text.group(2).strip()\n",
    "        ))"
   ]
  },
  {
   "cell_type": "markdown",
   "metadata": {},
   "source": [
    "## Parse URLs"
   ]
  },
  {
   "cell_type": "code",
   "execution_count": 74,
   "metadata": {},
   "outputs": [
    {
     "name": "stdout",
     "output_type": "stream",
     "text": [
      "Original URL: https://www.example.com/path/page?param1=value1&param2=value2#fragment\n",
      "\n",
      "Parsed Components:\n",
      "Scheme: https\n",
      "Host: www.example.com\n",
      "Path: /path/page\n",
      "Query: param1=value1&param2=value2\n",
      "Fragment: fragment\n",
      "\n",
      "Parsed Query Parameters:\n",
      "{'param1': ['value1'], 'param2': ['value2']}\n"
     ]
    }
   ],
   "source": [
    "from urllib.parse import urlparse, parse_qs\n",
    "\n",
    "# Example URL\n",
    "url = \"https://www.example.com/path/page?param1=value1&param2=value2#fragment\"\n",
    "\n",
    "# Parse the URL\n",
    "parsed_url = urlparse(url)\n",
    "\n",
    "# Extract components\n",
    "scheme = parsed_url.scheme\n",
    "host = parsed_url.netloc\n",
    "path = parsed_url.path\n",
    "query = parsed_url.query\n",
    "fragment = parsed_url.fragment\n",
    "\n",
    "# Parse query parameters\n",
    "query_params = parse_qs(parsed_url.query)\n",
    "\n",
    "# Display the results\n",
    "print(\"Original URL:\", url)\n",
    "print(\"\\nParsed Components:\")\n",
    "print(\"Scheme:\", scheme)\n",
    "print(\"Host:\", host)\n",
    "print(\"Path:\", path)\n",
    "print(\"Query:\", query)\n",
    "print(\"Fragment:\", fragment)\n",
    "\n",
    "print(\"\\nParsed Query Parameters:\")\n",
    "print(query_params)"
   ]
  },
  {
   "cell_type": "code",
   "execution_count": 75,
   "metadata": {},
   "outputs": [
    {
     "name": "stdout",
     "output_type": "stream",
     "text": [
      "https://www.example.com/relative-path\n",
      "https://www.example.com/relative-path\n"
     ]
    }
   ],
   "source": [
    "from urllib.parse import urljoin\n",
    "\n",
    "print(urljoin('https://www.example.com/', '/relative-path'))\n",
    "print(urljoin('https://www.example.com/', 'https://www.example.com/relative-path'))"
   ]
  },
  {
   "cell_type": "markdown",
   "metadata": {},
   "source": [
    "## Permutations"
   ]
  },
  {
   "cell_type": "code",
   "execution_count": 70,
   "metadata": {},
   "outputs": [
    {
     "data": {
      "text/html": [
       "<div>\n",
       "<style scoped>\n",
       "    .dataframe tbody tr th:only-of-type {\n",
       "        vertical-align: middle;\n",
       "    }\n",
       "\n",
       "    .dataframe tbody tr th {\n",
       "        vertical-align: top;\n",
       "    }\n",
       "\n",
       "    .dataframe thead th {\n",
       "        text-align: right;\n",
       "    }\n",
       "</style>\n",
       "<table border=\"1\" class=\"dataframe\">\n",
       "  <thead>\n",
       "    <tr style=\"text-align: right;\">\n",
       "      <th></th>\n",
       "      <th>0</th>\n",
       "    </tr>\n",
       "  </thead>\n",
       "  <tbody>\n",
       "    <tr>\n",
       "      <th>0</th>\n",
       "      <td>hotels: cheap hotels in Boston</td>\n",
       "    </tr>\n",
       "    <tr>\n",
       "      <th>1</th>\n",
       "      <td>hotels: cheap hotels in New-York</td>\n",
       "    </tr>\n",
       "    <tr>\n",
       "      <th>2</th>\n",
       "      <td>hotels: cheap hotels in Las Vegas</td>\n",
       "    </tr>\n",
       "    <tr>\n",
       "      <th>3</th>\n",
       "      <td>hotels: luxury hotels in Boston</td>\n",
       "    </tr>\n",
       "    <tr>\n",
       "      <th>4</th>\n",
       "      <td>hotels: luxury hotels in New-York</td>\n",
       "    </tr>\n",
       "  </tbody>\n",
       "</table>\n",
       "</div>"
      ],
      "text/plain": [
       "                                   0\n",
       "0     hotels: cheap hotels in Boston\n",
       "1   hotels: cheap hotels in New-York\n",
       "2  hotels: cheap hotels in Las Vegas\n",
       "3    hotels: luxury hotels in Boston\n",
       "4  hotels: luxury hotels in New-York"
      ]
     },
     "execution_count": 70,
     "metadata": {},
     "output_type": "execute_result"
    }
   ],
   "source": [
    "import pandas as pd \n",
    "\n",
    "hotel_keywords = [\n",
    "    'hotels',\n",
    "    'B&Bs',\n",
    "    'motels',\n",
    "    'lodges',\n",
    "    'villas'\n",
    "]\n",
    "hotel_types = [\n",
    "    'cheap',\n",
    "    'luxury'\n",
    "]\n",
    "\n",
    "hotel_classes = [f'{i}-stars' for i in [3,4,5]]\n",
    "hotel_types += hotel_classes\n",
    "\n",
    "geos = [\n",
    "    'Boston',\n",
    "    'New-York',\n",
    "    'Las Vegas'\n",
    "    ]\n",
    "\n",
    "results = []\n",
    "\n",
    "for hotel in hotel_keywords:\n",
    "    for hotel_type in hotel_types:\n",
    "        for geo in geos:\n",
    "            results.append(f'{hotel}: {hotel_type} {hotel} in {geo}')\n",
    "\n",
    "df = pd.DataFrame(results)\n",
    "df.head()"
   ]
  },
  {
   "cell_type": "markdown",
   "metadata": {},
   "source": [
    "## Manipulate DataFrames"
   ]
  },
  {
   "cell_type": "code",
   "execution_count": 71,
   "metadata": {},
   "outputs": [
    {
     "name": "stdout",
     "output_type": "stream",
     "text": [
      "                                  0\n",
      "0    hotels: cheap hotels in Boston\n",
      "1  hotels: cheap hotels in New-York\n",
      "                                  0\n",
      "0    hotels: cheap hotels in boston\n",
      "1  hotels: cheap hotels in new-york\n",
      "        0                          1\n",
      "0  hotels     cheap hotels in boston\n",
      "1  hotels   cheap hotels in new-york\n",
      "  hotel_type                      query\n",
      "0     hotels     cheap hotels in boston\n",
      "1     hotels   cheap hotels in new-york\n",
      "  hotel_type                      query      query_cat       geo\n",
      "0     hotels     cheap hotels in boston   cheap hotels    boston\n",
      "1     hotels   cheap hotels in new-york   cheap hotels  new-york\n"
     ]
    },
    {
     "data": {
      "text/html": [
       "<div>\n",
       "<style scoped>\n",
       "    .dataframe tbody tr th:only-of-type {\n",
       "        vertical-align: middle;\n",
       "    }\n",
       "\n",
       "    .dataframe tbody tr th {\n",
       "        vertical-align: top;\n",
       "    }\n",
       "\n",
       "    .dataframe thead th {\n",
       "        text-align: right;\n",
       "    }\n",
       "</style>\n",
       "<table border=\"1\" class=\"dataframe\">\n",
       "  <thead>\n",
       "    <tr style=\"text-align: right;\">\n",
       "      <th></th>\n",
       "      <th>hotel_type</th>\n",
       "      <th>query</th>\n",
       "      <th>query_cat</th>\n",
       "      <th>geo</th>\n",
       "      <th>url</th>\n",
       "    </tr>\n",
       "  </thead>\n",
       "  <tbody>\n",
       "    <tr>\n",
       "      <th>0</th>\n",
       "      <td>hotels</td>\n",
       "      <td>cheap hotels in boston</td>\n",
       "      <td>cheap hotels</td>\n",
       "      <td>boston</td>\n",
       "      <td>https://example.com/boston/cheap-hotels</td>\n",
       "    </tr>\n",
       "    <tr>\n",
       "      <th>1</th>\n",
       "      <td>hotels</td>\n",
       "      <td>cheap hotels in new-york</td>\n",
       "      <td>cheap hotels</td>\n",
       "      <td>new-york</td>\n",
       "      <td>https://example.com/new-york/cheap-hotels</td>\n",
       "    </tr>\n",
       "    <tr>\n",
       "      <th>2</th>\n",
       "      <td>hotels</td>\n",
       "      <td>cheap hotels in las vegas</td>\n",
       "      <td>cheap hotels</td>\n",
       "      <td>las vegas</td>\n",
       "      <td>https://example.com/las-vegas/cheap-hotels</td>\n",
       "    </tr>\n",
       "    <tr>\n",
       "      <th>3</th>\n",
       "      <td>hotels</td>\n",
       "      <td>luxury hotels in boston</td>\n",
       "      <td>luxury hotels</td>\n",
       "      <td>boston</td>\n",
       "      <td>https://example.com/boston/luxury-hotels</td>\n",
       "    </tr>\n",
       "    <tr>\n",
       "      <th>4</th>\n",
       "      <td>hotels</td>\n",
       "      <td>luxury hotels in new-york</td>\n",
       "      <td>luxury hotels</td>\n",
       "      <td>new-york</td>\n",
       "      <td>https://example.com/new-york/luxury-hotels</td>\n",
       "    </tr>\n",
       "    <tr>\n",
       "      <th>5</th>\n",
       "      <td>hotels</td>\n",
       "      <td>luxury hotels in las vegas</td>\n",
       "      <td>luxury hotels</td>\n",
       "      <td>las vegas</td>\n",
       "      <td>https://example.com/las-vegas/luxury-hotels</td>\n",
       "    </tr>\n",
       "    <tr>\n",
       "      <th>6</th>\n",
       "      <td>hotels</td>\n",
       "      <td>3-stars hotels in boston</td>\n",
       "      <td>3-stars hotels</td>\n",
       "      <td>boston</td>\n",
       "      <td>https://example.com/boston/3-stars-hotels</td>\n",
       "    </tr>\n",
       "    <tr>\n",
       "      <th>7</th>\n",
       "      <td>hotels</td>\n",
       "      <td>3-stars hotels in new-york</td>\n",
       "      <td>3-stars hotels</td>\n",
       "      <td>new-york</td>\n",
       "      <td>https://example.com/new-york/3-stars-hotels</td>\n",
       "    </tr>\n",
       "    <tr>\n",
       "      <th>8</th>\n",
       "      <td>hotels</td>\n",
       "      <td>3-stars hotels in las vegas</td>\n",
       "      <td>3-stars hotels</td>\n",
       "      <td>las vegas</td>\n",
       "      <td>https://example.com/las-vegas/3-stars-hotels</td>\n",
       "    </tr>\n",
       "    <tr>\n",
       "      <th>9</th>\n",
       "      <td>hotels</td>\n",
       "      <td>4-stars hotels in boston</td>\n",
       "      <td>4-stars hotels</td>\n",
       "      <td>boston</td>\n",
       "      <td>https://example.com/boston/4-stars-hotels</td>\n",
       "    </tr>\n",
       "  </tbody>\n",
       "</table>\n",
       "</div>"
      ],
      "text/plain": [
       "  hotel_type                         query        query_cat        geo  \\\n",
       "0     hotels        cheap hotels in boston     cheap hotels     boston   \n",
       "1     hotels      cheap hotels in new-york     cheap hotels   new-york   \n",
       "2     hotels     cheap hotels in las vegas     cheap hotels  las vegas   \n",
       "3     hotels       luxury hotels in boston    luxury hotels     boston   \n",
       "4     hotels     luxury hotels in new-york    luxury hotels   new-york   \n",
       "5     hotels    luxury hotels in las vegas    luxury hotels  las vegas   \n",
       "6     hotels      3-stars hotels in boston   3-stars hotels     boston   \n",
       "7     hotels    3-stars hotels in new-york   3-stars hotels   new-york   \n",
       "8     hotels   3-stars hotels in las vegas   3-stars hotels  las vegas   \n",
       "9     hotels      4-stars hotels in boston   4-stars hotels     boston   \n",
       "\n",
       "                                            url  \n",
       "0       https://example.com/boston/cheap-hotels  \n",
       "1     https://example.com/new-york/cheap-hotels  \n",
       "2    https://example.com/las-vegas/cheap-hotels  \n",
       "3      https://example.com/boston/luxury-hotels  \n",
       "4    https://example.com/new-york/luxury-hotels  \n",
       "5   https://example.com/las-vegas/luxury-hotels  \n",
       "6     https://example.com/boston/3-stars-hotels  \n",
       "7   https://example.com/new-york/3-stars-hotels  \n",
       "8  https://example.com/las-vegas/3-stars-hotels  \n",
       "9     https://example.com/boston/4-stars-hotels  "
      ]
     },
     "execution_count": 71,
     "metadata": {},
     "output_type": "execute_result"
    }
   ],
   "source": [
    "print(df.head(2))\n",
    "\n",
    "# lowercase column\n",
    "df[0] = df[0].str.lower()\n",
    "print(df.head(2))\n",
    "\n",
    "# Split column\n",
    "df = df[0].str.split(':',expand=True)\n",
    "print(df.head(2))\n",
    "\n",
    "# Rename column\n",
    "df.columns = ['hotel_type','query']\n",
    "print(df.head(2))\n",
    "\n",
    "# Regex Extract\n",
    "df[['query_cat','geo']] = df['query'].str.extract(r'(.*) in (.*)',expand=True)\n",
    "print(df.head(2))\n",
    "\n",
    "# Feature engineering\n",
    "domain = 'https://example.com/'\n",
    "df['url'] = domain + df['geo'].str.replace(' ','-') + '/' + df['query_cat'].str.strip().str.replace(' ','-')\n",
    "\n",
    "df.head(10)"
   ]
  },
  {
   "cell_type": "markdown",
   "metadata": {},
   "source": [
    "## Read and Store CSVs\n"
   ]
  },
  {
   "cell_type": "code",
   "execution_count": 73,
   "metadata": {},
   "outputs": [
    {
     "data": {
      "text/html": [
       "<div>\n",
       "<style scoped>\n",
       "    .dataframe tbody tr th:only-of-type {\n",
       "        vertical-align: middle;\n",
       "    }\n",
       "\n",
       "    .dataframe tbody tr th {\n",
       "        vertical-align: top;\n",
       "    }\n",
       "\n",
       "    .dataframe thead th {\n",
       "        text-align: right;\n",
       "    }\n",
       "</style>\n",
       "<table border=\"1\" class=\"dataframe\">\n",
       "  <thead>\n",
       "    <tr style=\"text-align: right;\">\n",
       "      <th></th>\n",
       "      <th>hotel_type</th>\n",
       "      <th>query</th>\n",
       "      <th>query_cat</th>\n",
       "      <th>geo</th>\n",
       "      <th>url</th>\n",
       "    </tr>\n",
       "  </thead>\n",
       "  <tbody>\n",
       "    <tr>\n",
       "      <th>0</th>\n",
       "      <td>hotels</td>\n",
       "      <td>cheap hotels in boston</td>\n",
       "      <td>cheap hotels</td>\n",
       "      <td>boston</td>\n",
       "      <td>https://example.com/boston/cheap-hotels</td>\n",
       "    </tr>\n",
       "    <tr>\n",
       "      <th>1</th>\n",
       "      <td>hotels</td>\n",
       "      <td>cheap hotels in new-york</td>\n",
       "      <td>cheap hotels</td>\n",
       "      <td>new-york</td>\n",
       "      <td>https://example.com/new-york/cheap-hotels</td>\n",
       "    </tr>\n",
       "    <tr>\n",
       "      <th>2</th>\n",
       "      <td>hotels</td>\n",
       "      <td>cheap hotels in las vegas</td>\n",
       "      <td>cheap hotels</td>\n",
       "      <td>las vegas</td>\n",
       "      <td>https://example.com/las-vegas/cheap-hotels</td>\n",
       "    </tr>\n",
       "    <tr>\n",
       "      <th>3</th>\n",
       "      <td>hotels</td>\n",
       "      <td>luxury hotels in boston</td>\n",
       "      <td>luxury hotels</td>\n",
       "      <td>boston</td>\n",
       "      <td>https://example.com/boston/luxury-hotels</td>\n",
       "    </tr>\n",
       "    <tr>\n",
       "      <th>4</th>\n",
       "      <td>hotels</td>\n",
       "      <td>luxury hotels in new-york</td>\n",
       "      <td>luxury hotels</td>\n",
       "      <td>new-york</td>\n",
       "      <td>https://example.com/new-york/luxury-hotels</td>\n",
       "    </tr>\n",
       "    <tr>\n",
       "      <th>...</th>\n",
       "      <td>...</td>\n",
       "      <td>...</td>\n",
       "      <td>...</td>\n",
       "      <td>...</td>\n",
       "      <td>...</td>\n",
       "    </tr>\n",
       "    <tr>\n",
       "      <th>70</th>\n",
       "      <td>villas</td>\n",
       "      <td>4-stars villas in new-york</td>\n",
       "      <td>4-stars villas</td>\n",
       "      <td>new-york</td>\n",
       "      <td>https://example.com/new-york/4-stars-villas</td>\n",
       "    </tr>\n",
       "    <tr>\n",
       "      <th>71</th>\n",
       "      <td>villas</td>\n",
       "      <td>4-stars villas in las vegas</td>\n",
       "      <td>4-stars villas</td>\n",
       "      <td>las vegas</td>\n",
       "      <td>https://example.com/las-vegas/4-stars-villas</td>\n",
       "    </tr>\n",
       "    <tr>\n",
       "      <th>72</th>\n",
       "      <td>villas</td>\n",
       "      <td>5-stars villas in boston</td>\n",
       "      <td>5-stars villas</td>\n",
       "      <td>boston</td>\n",
       "      <td>https://example.com/boston/5-stars-villas</td>\n",
       "    </tr>\n",
       "    <tr>\n",
       "      <th>73</th>\n",
       "      <td>villas</td>\n",
       "      <td>5-stars villas in new-york</td>\n",
       "      <td>5-stars villas</td>\n",
       "      <td>new-york</td>\n",
       "      <td>https://example.com/new-york/5-stars-villas</td>\n",
       "    </tr>\n",
       "    <tr>\n",
       "      <th>74</th>\n",
       "      <td>villas</td>\n",
       "      <td>5-stars villas in las vegas</td>\n",
       "      <td>5-stars villas</td>\n",
       "      <td>las vegas</td>\n",
       "      <td>https://example.com/las-vegas/5-stars-villas</td>\n",
       "    </tr>\n",
       "  </tbody>\n",
       "</table>\n",
       "<p>75 rows × 5 columns</p>\n",
       "</div>"
      ],
      "text/plain": [
       "   hotel_type                         query        query_cat        geo  \\\n",
       "0      hotels        cheap hotels in boston     cheap hotels     boston   \n",
       "1      hotels      cheap hotels in new-york     cheap hotels   new-york   \n",
       "2      hotels     cheap hotels in las vegas     cheap hotels  las vegas   \n",
       "3      hotels       luxury hotels in boston    luxury hotels     boston   \n",
       "4      hotels     luxury hotels in new-york    luxury hotels   new-york   \n",
       "..        ...                           ...              ...        ...   \n",
       "70     villas    4-stars villas in new-york   4-stars villas   new-york   \n",
       "71     villas   4-stars villas in las vegas   4-stars villas  las vegas   \n",
       "72     villas      5-stars villas in boston   5-stars villas     boston   \n",
       "73     villas    5-stars villas in new-york   5-stars villas   new-york   \n",
       "74     villas   5-stars villas in las vegas   5-stars villas  las vegas   \n",
       "\n",
       "                                             url  \n",
       "0        https://example.com/boston/cheap-hotels  \n",
       "1      https://example.com/new-york/cheap-hotels  \n",
       "2     https://example.com/las-vegas/cheap-hotels  \n",
       "3       https://example.com/boston/luxury-hotels  \n",
       "4     https://example.com/new-york/luxury-hotels  \n",
       "..                                           ...  \n",
       "70   https://example.com/new-york/4-stars-villas  \n",
       "71  https://example.com/las-vegas/4-stars-villas  \n",
       "72     https://example.com/boston/5-stars-villas  \n",
       "73   https://example.com/new-york/5-stars-villas  \n",
       "74  https://example.com/las-vegas/5-stars-villas  \n",
       "\n",
       "[75 rows x 5 columns]"
      ]
     },
     "execution_count": 73,
     "metadata": {},
     "output_type": "execute_result"
    }
   ],
   "source": [
    "df.to_csv('files/example_file.csv')\n",
    "a_csv = pd.read_csv('files/example_file.csv',index_col=0)\n",
    "a_csv"
   ]
  },
  {
   "attachments": {},
   "cell_type": "markdown",
   "metadata": {},
   "source": [
    "## Conclusion\n",
    "\n",
    "Help me and subscribe to this channel.\n",
    "\n",
    "Stay tuned for my upcoming Python for SEO course.\n",
    "\n",
    "### [jcchouinard.com](https://www.jcchouinard.com/)\n",
    "### [youtube.com/@jcchouinard](https://www.youtube.com/@jcchouinard)\n",
    "### [twitter.com/ChouinardJC](https://twitter.com/ChouinardJC)\n",
    "### [linkedin.com/in/jeanchristophechouinard](https://www.linkedin.com/in/jeanchristophechouinard)\n"
   ]
  }
 ],
 "metadata": {
  "kernelspec": {
   "display_name": "Python 3",
   "language": "python",
   "name": "python3"
  },
  "language_info": {
   "codemirror_mode": {
    "name": "ipython",
    "version": 3
   },
   "file_extension": ".py",
   "mimetype": "text/x-python",
   "name": "python",
   "nbconvert_exporter": "python",
   "pygments_lexer": "ipython3",
   "version": "3.12.2"
  },
  "orig_nbformat": 4,
  "vscode": {
   "interpreter": {
    "hash": "b0fa6594d8f4cbf19f97940f81e996739fb7646882a419484c72d19e05852a7e"
   }
  }
 },
 "nbformat": 4,
 "nbformat_minor": 2
}
