{
 "cells": [
  {
   "attachments": {},
   "cell_type": "markdown",
   "metadata": {},
   "source": [
    "# Python Tutorial: Python Control Flows\n",
    "\n",
    "By: jcchouinard.com\n",
    "\n",
    "-----\n",
    "\n",
    "Control flows in Python defines the order that the computer executes statements, instructions or function calls in a script.\n",
    "\n",
    "They are used to write more complex and dynamic programs to answer different situations in different ways.\n",
    "\n",
    "The control flow in Python is defined by the conditional statements, the loops and the function calls.\n",
    "\n",
    "- `if/elif/else` statements\n",
    "- `for` loops statements\n",
    "- `while` loops statement\n",
    "- `break` and `continue` statements\n",
    "- `pass` statement\n",
    "- `try/except` statements\n",
    "- `match` statement"
   ]
  },
  {
   "attachments": {},
   "cell_type": "markdown",
   "metadata": {},
   "source": [
    "## If/elif/else\n",
    "\n",
    "The `if`, `elif` and `else` keywords are used to apply conditions for the Python code execution. \n",
    "\n",
    "(If condition, do something, else do something else.)\n",
    "\n",
    "```\n",
    "if condition:\n",
    "    # Do something if condition is true\n",
    "else:\n",
    "    # Do something else if condition is false\n",
    "```"
   ]
  },
  {
   "cell_type": "code",
   "execution_count": 1,
   "metadata": {},
   "outputs": [
    {
     "name": "stdout",
     "output_type": "stream",
     "text": [
      "This is True\n"
     ]
    }
   ],
   "source": [
    "# If statement\n",
    "if True:\n",
    "    print('This is True')"
   ]
  },
  {
   "cell_type": "code",
   "execution_count": 2,
   "metadata": {},
   "outputs": [
    {
     "name": "stdout",
     "output_type": "stream",
     "text": [
      "i is smaller than 10\n"
     ]
    }
   ],
   "source": [
    "# If/Else Statement\n",
    "i = 1\n",
    "if i > 10:\n",
    "    print('i is greater than 10')\n",
    "else:\n",
    "    print('i is smaller than 10')"
   ]
  },
  {
   "cell_type": "code",
   "execution_count": 3,
   "metadata": {},
   "outputs": [
    {
     "name": "stdout",
     "output_type": "stream",
     "text": [
      "i is greater than 10\n"
     ]
    }
   ],
   "source": [
    "# Simple Elif Example\n",
    "i = 12\n",
    "if i < 2:\n",
    "    print('i is less than 2')\n",
    "elif i > 10:\n",
    "    print('i is greater than 10')\n",
    "else:\n",
    "    print('i is a number between 2 and 10')"
   ]
  },
  {
   "attachments": {},
   "cell_type": "markdown",
   "metadata": {},
   "source": [
    "## for loops statements\n",
    "\n",
    "The `for` loops statements are used to iterate over a sequence (e.g. list, tuple, string) and execute code for each item.\n",
    "\n",
    "```\n",
    "for item in sequence:\n",
    "    # Do Something\n",
    "```"
   ]
  },
  {
   "cell_type": "code",
   "execution_count": 5,
   "metadata": {},
   "outputs": [
    {
     "name": "stdout",
     "output_type": "stream",
     "text": [
      "1\n",
      "2\n",
      "3\n"
     ]
    }
   ],
   "source": [
    "# Simple for loop\n",
    "for i in [1,2,3]:\n",
    "    print(i)"
   ]
  },
  {
   "attachments": {},
   "cell_type": "markdown",
   "metadata": {},
   "source": [
    "## While Loops Statements\n",
    "The `while` loops statements are used to execute code as long as a given condition is True.\n",
    "\n",
    "Similar to a if else block that would be repeated over and over.\n",
    "\n",
    "```\n",
    "while condition:\n",
    "    # do something\n",
    "```"
   ]
  },
  {
   "cell_type": "code",
   "execution_count": 2,
   "metadata": {},
   "outputs": [
    {
     "name": "stdout",
     "output_type": "stream",
     "text": [
      "hello\n"
     ]
    }
   ],
   "source": [
    "# Simple while loop\n",
    "while True:\n",
    "    print('hello')\n",
    "    break"
   ]
  },
  {
   "attachments": {},
   "cell_type": "markdown",
   "metadata": {},
   "source": [
    "## `break` and `continue` Statements\n",
    "\n",
    "The `break` statement is used to stop a loop early.\n",
    "\n",
    "The `continue` statement is used to skip to the next iteration of the loop."
   ]
  },
  {
   "cell_type": "code",
   "execution_count": 5,
   "metadata": {},
   "outputs": [
    {
     "name": "stdout",
     "output_type": "stream",
     "text": [
      "a\n",
      "b\n",
      "d\n"
     ]
    }
   ],
   "source": [
    "# Break and continue example\n",
    "letters = ['a', 'b', 'c', 'd', 'e', 'f']\n",
    "\n",
    "for letter in letters:\n",
    "    if letter == 'e':\n",
    "        # if the letter is \"e\", stop the loop\n",
    "        break\n",
    "    elif letter == 'c':\n",
    "        # if the letter is \"c\", skip to the next iteration\n",
    "        continue\n",
    "    print(letter)\n"
   ]
  },
  {
   "attachments": {},
   "cell_type": "markdown",
   "metadata": {},
   "source": [
    "## `pass` statement\n",
    "\n",
    "The `pass` statement is a null operation that is used as a placeholder when the code should do nothing."
   ]
  },
  {
   "cell_type": "code",
   "execution_count": 6,
   "metadata": {},
   "outputs": [],
   "source": [
    "# Example pass\n",
    "def a_func():\n",
    "    pass"
   ]
  },
  {
   "attachments": {},
   "cell_type": "markdown",
   "metadata": {},
   "source": [
    "## `try/except` Statements\n",
    "\n",
    "The `try/except` statements are used to handle errors (exceptions). \n",
    "\n",
    "- The `try` block contains the code that may return an exception.\n",
    "- The `except` block contains the code to execute if there is an exception.\n",
    "\n",
    "It has the following structure:\n",
    "\n",
    "```\n",
    "try:\n",
    "    # code that may break\n",
    "except:\n",
    "    # code to execute if it breaks\n",
    "```"
   ]
  },
  {
   "cell_type": "code",
   "execution_count": 7,
   "metadata": {},
   "outputs": [
    {
     "name": "stdout",
     "output_type": "stream",
     "text": [
      "You can't divide by zero\n"
     ]
    }
   ],
   "source": [
    "# Example Try and Except\n",
    "try:\n",
    "    1 / 0\n",
    "except:\n",
    "    print(\"You can't divide by zero\") "
   ]
  },
  {
   "attachments": {},
   "cell_type": "markdown",
   "metadata": {},
   "source": [
    "## `match` statement\n",
    "\n",
    "The `match` statement is used perform pattern matching. \n",
    "\n",
    "If a pattern match the expression, code is executed."
   ]
  },
  {
   "cell_type": "code",
   "execution_count": 8,
   "metadata": {},
   "outputs": [
    {
     "name": "stdout",
     "output_type": "stream",
     "text": [
      "404: Not found\n",
      "1000: This code was not matched\n"
     ]
    }
   ],
   "source": [
    "# Example match statement\n",
    "def http_error(status):\n",
    "    match status:\n",
    "        case 400:\n",
    "            return \"Bad request\"\n",
    "        case 404:\n",
    "            return \"Not found\"\n",
    "        case 418:\n",
    "            return \"I'm a teapot\"\n",
    "        case _:\n",
    "            return \"This code was not matched\"\n",
    "        \n",
    "print('404:', http_error(404))\n",
    "print('1000:', http_error(1000))  "
   ]
  },
  {
   "attachments": {},
   "cell_type": "markdown",
   "metadata": {},
   "source": [
    "## Conclusion\n",
    "\n",
    "Help me and subscribe to this channel.\n",
    "\n",
    "Stay tuned for my upcoming Python for SEO course.\n",
    "\n",
    "### [jcchouinard.com](https://www.jcchouinard.com/)\n",
    "### [youtube.com/@jcchouinard](https://www.youtube.com/@jcchouinard)\n",
    "### [twitter.com/ChouinardJC](https://twitter.com/ChouinardJC)\n",
    "### [linkedin.com/in/jeanchristophechouinard](https://www.linkedin.com/in/jeanchristophechouinard)\n"
   ]
  }
 ],
 "metadata": {
  "kernelspec": {
   "display_name": "Python 3",
   "language": "python",
   "name": "python3"
  },
  "language_info": {
   "codemirror_mode": {
    "name": "ipython",
    "version": 3
   },
   "file_extension": ".py",
   "mimetype": "text/x-python",
   "name": "python",
   "nbconvert_exporter": "python",
   "pygments_lexer": "ipython3",
   "version": "3.10.6"
  },
  "orig_nbformat": 4,
  "vscode": {
   "interpreter": {
    "hash": "b0fa6594d8f4cbf19f97940f81e996739fb7646882a419484c72d19e05852a7e"
   }
  }
 },
 "nbformat": 4,
 "nbformat_minor": 2
}
