{
 "cells": [
  {
   "attachments": {},
   "cell_type": "markdown",
   "metadata": {},
   "source": [
    "# Sklearn LinearRegression\n",
    "## How to make a Multiple Linear Regression (in Python) with Scikit-Learn\n",
    "\n",
    "By: jcchouinard.com\n",
    "\n",
    "-----\n",
    "\n",
    "## What is LinearRegression\n",
    "\n",
    "`LinearRegression` is a ordinary least squares (OLS) Linear Regression from Scikit-Learn for predicting values. \n",
    "\n",
    "The `sklearn.linear_model.LinearRegression` class fits a linear model to minimize the residual sum of squares (RSS) between observations and predictions on a target.\n",
    "\n",
    "\n",
    "![](https://www.jcchouinard.com/wp-content/uploads/2021/08/image-13.png)\n",
    "\n",
    "## What is a Multiple Linear Regression?\n",
    "\n",
    "The process involved in the multiple linear regression is similar the ones involved in the simple linear regression but it models the relationship between one dependent variable and two or more independent variables.\n",
    "\n",
    "![](https://www.jcchouinard.com/wp-content/uploads/2023/09/image-86-1024x825.png)\n",
    "\n",
    "## Getting Started\n",
    "\n",
    "`pip install scikit-learn matplotlib`\n",
    "\n",
    "##  Primer on the Simple Linear Regression"
   ]
  },
  {
   "cell_type": "code",
   "execution_count": 2,
   "metadata": {},
   "outputs": [
    {
     "name": "stdout",
     "output_type": "stream",
     "text": [
      "Mean absolute error: 50.59307504375872\n",
      "Root Mean squared error: 62.32926055201547\n",
      "Coefficient of determination (r2 Score): 0.2803417492440603\n"
     ]
    }
   ],
   "source": [
    "from sklearn.model_selection import train_test_split\n",
    "from sklearn.datasets import load_diabetes\n",
    "from sklearn.linear_model import LinearRegression\n",
    "from sklearn import metrics\n",
    "import numpy as np\n",
    "\n",
    "# Load data\n",
    "X, y = load_diabetes(return_X_y=True, as_frame=True)\n",
    "\n",
    "# Select a single feature\n",
    "X = X[['bmi']]\n",
    "\n",
    "# Split data\n",
    "X_train, X_test, y_train, y_test = train_test_split(\n",
    "                                    X, y, \n",
    "                                    test_size=0.3, \n",
    "                                    random_state=42)\n",
    "\n",
    "# Train the model\n",
    "lin_reg = LinearRegression()\n",
    "lin_reg.fit(X_train, y_train)\n",
    "y_pred = lin_reg.predict(X_test)\n",
    "\n",
    "# Comput metrics\n",
    "print('Mean absolute error:', metrics.mean_absolute_error(y_test, y_pred))\n",
    "print('Root Mean squared error:', metrics.root_mean_squared_error(y_test, y_pred))\n",
    "print('Coefficient of determination (r2 Score):', metrics.r2_score(y_test, y_pred))"
   ]
  },
  {
   "cell_type": "markdown",
   "metadata": {},
   "source": [
    "## Multiple Linear Regression"
   ]
  },
  {
   "cell_type": "code",
   "execution_count": 1,
   "metadata": {},
   "outputs": [
    {
     "name": "stdout",
     "output_type": "stream",
     "text": [
      "Features: Index(['age', 'sex', 'bmi', 'bp', 's1', 's2', 's3', 's4', 's5', 's6'], dtype='object')\n"
     ]
    }
   ],
   "source": [
    "# Load data\n",
    "from sklearn.datasets import load_diabetes\n",
    " \n",
    "X, y = load_diabetes(return_X_y=True, as_frame=True)\n",
    "\n",
    "print('Features:', X.columns)"
   ]
  },
  {
   "cell_type": "markdown",
   "metadata": {},
   "source": [
    "## Split the dataset into training and test sets"
   ]
  },
  {
   "cell_type": "code",
   "execution_count": 2,
   "metadata": {},
   "outputs": [],
   "source": [
    "# Split the dataset into training and test sets\n",
    "from sklearn.model_selection import train_test_split\n",
    "\n",
    "X_train, X_test, y_train, y_test = train_test_split(\n",
    "                                    X, y, \n",
    "                                    test_size=0.3, \n",
    "                                    random_state=42)"
   ]
  },
  {
   "cell_type": "markdown",
   "metadata": {},
   "source": [
    "## Training the LinearRegression"
   ]
  },
  {
   "cell_type": "code",
   "execution_count": 3,
   "metadata": {},
   "outputs": [],
   "source": [
    "# import LinearRegression\n",
    "from sklearn.linear_model import LinearRegression\n",
    "\n",
    "# train the model\n",
    "lin_reg = LinearRegression()\n",
    "lin_reg.fit(X_train, y_train)\n",
    "y_pred = lin_reg.predict(X_test)"
   ]
  },
  {
   "cell_type": "markdown",
   "metadata": {},
   "source": [
    "## Show the Linear Regression Intercept and Coefficients"
   ]
  },
  {
   "cell_type": "code",
   "execution_count": 4,
   "metadata": {},
   "outputs": [
    {
     "data": {
      "image/png": "[encoded data removed]",
      "text/plain": [
       "<Figure size 640x480 with 1 Axes>"
      ]
     },
     "metadata": {},
     "output_type": "display_data"
    }
   ],
   "source": [
    "import matplotlib.pyplot as plt\n",
    "import pandas as pd \n",
    "\n",
    "# Create a DataFrame for coefficients and include the intercept\n",
    "coef_df = pd.DataFrame(lin_reg.coef_, X.columns, columns=['Coefficient'])\n",
    "\n",
    "# Plot the coefficients and the intercept\n",
    "coef_df.plot(kind='barh')\n",
    "plt.title('Feature Importance of Multiple Linear Regression')\n",
    "plt.xlabel('Coefficient Value')\n",
    "plt.ylabel('Features')\n",
    "  # Add a vertical line at x=0\n",
    "plt.show()\n"
   ]
  },
  {
   "cell_type": "code",
   "execution_count": 11,
   "metadata": {},
   "outputs": [
    {
     "name": "stdout",
     "output_type": "stream",
     "text": [
      "Coefficient of Determination (R²): 0.4772897164322617\n",
      "Mean Absolute Error (MAE): 41.91937845679274\n",
      "Root Mean Squared Error (RMSE): 53.120156070942706\n"
     ]
    }
   ],
   "source": [
    "from sklearn import metrics\n",
    "\n",
    "r2_score = metrics.r2_score(y_test, y_pred)\n",
    "mae = metrics.mean_absolute_error(y_test, y_pred)\n",
    "rmse = metrics.root_mean_squared_error(y_test, y_pred)\n",
    "\n",
    "# Print the metrics\n",
    "print(f'Coefficient of Determination (R²): {r2_score}')\n",
    "print(f'Mean Absolute Error (MAE): {mae}')\n",
    "print(f'Root Mean Squared Error (RMSE): {rmse}')"
   ]
  },
  {
   "cell_type": "markdown",
   "metadata": {},
   "source": [
    "## Interpretation\n",
    "\n",
    "### Simple Linear Regression\n",
    "\n",
    "- Mean absolute error: 50.59307504375872\n",
    "- Root Mean squared error: 62.32926055201547\n",
    "- Coefficient of determination (r2 Score): 0.2803417492440603\n",
    "\n",
    "### Multiple Linear Regression\n",
    "\n",
    "- Mean Absolute Error (MAE): 41.91937845679274\n",
    "- Root Mean Squared Error (RMSE): 53.120156070942706\n",
    "- Coefficient of Determination (R²): 0.4772897164322617\n",
    "\n",
    "## Explanation\n",
    "\n",
    "- Mean Absolute Error (MAE): Average absolute difference between predicted and actual values (lower = better) - 41.9 VS 50.6 \n",
    "- Root Mean Squared Error (RMSE): Magnitude of error (lower = better) - 53 VS 62\n",
    "- Coefficient of Determination (R²): % of variation in depedent explained by independent variable (higher = better fit) - 0.48 VS 0.28\n",
    "\n",
    "The results show that Multiple Linear Regression model performs much better than the Simple Linear Regression model for all metrics.\n",
    "\n",
    "Adding multiple predictors led to improved prediction accuracy and a better fit in the diabetes dataset.\n"
   ]
  },
  {
   "cell_type": "markdown",
   "metadata": {},
   "source": [
    "## Improving Scores\n",
    "\n",
    "1. Data Preprocessing\n",
    "2. Feature Engineering\n",
    "3. Hyperparameter Tuning\n",
    "4. Cross-validation\n",
    "5. Model Selection\n",
    "6. Feature Selection\n"
   ]
  },
  {
   "attachments": {},
   "cell_type": "markdown",
   "metadata": {},
   "source": [
    "## Conclusion\n",
    "\n",
    "Help me and subscribe to this channel.\n",
    "\n",
    "Stay tuned for my upcoming Python for SEO course.\n",
    "\n",
    "### [jcchouinard.com](https://www.jcchouinard.com/)\n",
    "### [youtube.com/@jcchouinard](https://www.youtube.com/@jcchouinard)\n",
    "### [twitter.com/ChouinardJC](https://twitter.com/ChouinardJC)\n",
    "### [linkedin.com/in/jeanchristophechouinard](https://www.linkedin.com/in/jeanchristophechouinard)\n"
   ]
  }
 ],
 "metadata": {
  "kernelspec": {
   "display_name": "Python 3",
   "language": "python",
   "name": "python3"
  },
  "language_info": {
   "codemirror_mode": {
    "name": "ipython",
    "version": 3
   },
   "file_extension": ".py",
   "mimetype": "text/x-python",
   "name": "python",
   "nbconvert_exporter": "python",
   "pygments_lexer": "ipython3",
   "version": "3.12.2"
  },
  "orig_nbformat": 4,
  "vscode": {
   "interpreter": {
    "hash": "b0fa6594d8f4cbf19f97940f81e996739fb7646882a419484c72d19e05852a7e"
   }
  }
 },
 "nbformat": 4,
 "nbformat_minor": 2
}
