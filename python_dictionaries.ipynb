{
 "cells": [
  {
   "attachments": {},
   "cell_type": "markdown",
   "metadata": {},
   "source": [
    "# Python Tutorial: Python Dictionaries\n",
    "\n",
    "By: jcchouinard.com\n",
    "\n",
    "-----\n",
    "\n",
    "In Python, dictionaries are one  of the 4 data types used to store collections of data. \n",
    "\n",
    "(multiple items in a single variable)\n",
    "\n",
    "The 4 data types that store collections are: dictionaries, lists, sets and tuples, which we'll cover in other lessons."
   ]
  },
  {
   "cell_type": "code",
   "execution_count": null,
   "metadata": {},
   "outputs": [],
   "source": [
    "# Example Dictionary\n",
    "d = {\n",
    "        'name': 'JC', \n",
    "        'last_name': 'Chouinard'\n",
    "    }"
   ]
  },
  {
   "attachments": {},
   "cell_type": "markdown",
   "metadata": {},
   "source": [
    "## Dictionaries don't allow duplicates"
   ]
  },
  {
   "cell_type": "code",
   "execution_count": null,
   "metadata": {},
   "outputs": [],
   "source": [
    "# No duplicates\n",
    "{\n",
    "    'name': 'JC', \n",
    "    'name': 'JC'\n",
    "}"
   ]
  },
  {
   "attachments": {},
   "cell_type": "markdown",
   "metadata": {},
   "source": [
    "## Dictionaries Have Keys and Values"
   ]
  },
  {
   "cell_type": "code",
   "execution_count": null,
   "metadata": {},
   "outputs": [],
   "source": [
    "## Key,value pairs\n",
    "d = {\n",
    "    'a':1,\n",
    "    'b':2,\n",
    "    'c':3\n",
    "}\n",
    "\n",
    "# Access the value using the key\n",
    "d['a']"
   ]
  },
  {
   "attachments": {},
   "cell_type": "markdown",
   "metadata": {},
   "source": [
    "## Values Can Have Multiple Data Types"
   ]
  },
  {
   "cell_type": "code",
   "execution_count": null,
   "metadata": {},
   "outputs": [],
   "source": [
    "# Storing data types in dicts\n",
    "d = {\n",
    "    'str':'hello',\n",
    "    'bool':False,\n",
    "    'list':[1,2,3],\n",
    "    'int':10\n",
    "}\n",
    "type(d)\n",
    "type(d['bool'])"
   ]
  },
  {
   "attachments": {},
   "cell_type": "markdown",
   "metadata": {},
   "source": [
    "## Creating a Dictionary"
   ]
  },
  {
   "cell_type": "code",
   "execution_count": 1,
   "metadata": {},
   "outputs": [
    {
     "name": "stdout",
     "output_type": "stream",
     "text": [
      "{}\n",
      "{}\n"
     ]
    }
   ],
   "source": [
    "# Initialize empty dictionary\n",
    "d = dict()\n",
    "print(d)\n",
    "d = {}\n",
    "print(d)"
   ]
  },
  {
   "cell_type": "code",
   "execution_count": null,
   "metadata": {},
   "outputs": [],
   "source": [
    "# Constructor\n",
    "dict(name='JC',last_name='Chouinard')"
   ]
  },
  {
   "cell_type": "code",
   "execution_count": 14,
   "metadata": {},
   "outputs": [
    {
     "data": {
      "text/plain": [
       "{'a': 0, 'b': 0, 'c': 0}"
      ]
     },
     "execution_count": 14,
     "metadata": {},
     "output_type": "execute_result"
    }
   ],
   "source": [
    "# Create dict from keys\n",
    "keys = ['a','b','c']\n",
    "value = 0\n",
    "dict.fromkeys(keys,value)\n"
   ]
  },
  {
   "attachments": {},
   "cell_type": "markdown",
   "metadata": {},
   "source": [
    "## Searching a Dictionary"
   ]
  },
  {
   "cell_type": "code",
   "execution_count": null,
   "metadata": {},
   "outputs": [],
   "source": [
    "# create dict \n",
    "my_dict = dict(\n",
    "    name='David',\n",
    "    last_name='Attenborough',\n",
    "    birth='1926-05-09',\n",
    "    occupations=['Broadcaster','naturalist'],\n",
    "    family={\n",
    "        'spouse':'Jane Ebsworth Oriel',\n",
    "        'children':2\n",
    "        }\n",
    "    )"
   ]
  },
  {
   "cell_type": "code",
   "execution_count": null,
   "metadata": {},
   "outputs": [],
   "source": [
    "# Get\n",
    "my_dict.get('name')"
   ]
  },
  {
   "cell_type": "code",
   "execution_count": null,
   "metadata": {},
   "outputs": [],
   "source": [
    "# Get\n",
    "my_dict.get('spouse')"
   ]
  },
  {
   "cell_type": "code",
   "execution_count": null,
   "metadata": {},
   "outputs": [],
   "source": [
    "# Keys\n",
    "my_dict.keys()"
   ]
  },
  {
   "cell_type": "code",
   "execution_count": null,
   "metadata": {},
   "outputs": [],
   "source": [
    "# Nested Dict\n",
    "my_dict['family'].get('spouse')"
   ]
  },
  {
   "cell_type": "code",
   "execution_count": null,
   "metadata": {},
   "outputs": [],
   "source": [
    "# Nested Dict\n",
    "my_dict['family']['spouse']"
   ]
  },
  {
   "cell_type": "code",
   "execution_count": null,
   "metadata": {},
   "outputs": [],
   "source": [
    "# Values\n",
    "my_dict.values()"
   ]
  },
  {
   "cell_type": "code",
   "execution_count": null,
   "metadata": {},
   "outputs": [],
   "source": [
    "# Items\n",
    "my_dict.items()"
   ]
  },
  {
   "attachments": {},
   "cell_type": "markdown",
   "metadata": {},
   "source": [
    "## Modify Values"
   ]
  },
  {
   "cell_type": "code",
   "execution_count": null,
   "metadata": {},
   "outputs": [],
   "source": [
    "# Modify value\n",
    "my_dict['birth'] = '1926-05-08'\n",
    "my_dict"
   ]
  },
  {
   "attachments": {},
   "cell_type": "markdown",
   "metadata": {},
   "source": [
    "## Add Items"
   ]
  },
  {
   "cell_type": "code",
   "execution_count": null,
   "metadata": {},
   "outputs": [],
   "source": [
    "# Assign value to key\n",
    "my_dict['known_for'] = 'Wildife Documentaries'\n",
    "my_dict"
   ]
  },
  {
   "cell_type": "code",
   "execution_count": null,
   "metadata": {},
   "outputs": [],
   "source": [
    "# Perform multiple changes at once\n",
    "my_dict.update({\n",
    "    'known_for':'Planet Earth',\n",
    "    'works_for':'BBC'\n",
    "})\n",
    "\n",
    "my_dict"
   ]
  },
  {
   "attachments": {},
   "cell_type": "markdown",
   "metadata": {},
   "source": [
    "## Remove Items"
   ]
  },
  {
   "cell_type": "code",
   "execution_count": null,
   "metadata": {},
   "outputs": [],
   "source": [
    "# Remove specific Item\n",
    "my_dict.pop('birth')\n",
    "my_dict"
   ]
  },
  {
   "cell_type": "code",
   "execution_count": null,
   "metadata": {},
   "outputs": [],
   "source": [
    "# Remove last item\n",
    "my_dict.popitem()\n",
    "my_dict"
   ]
  },
  {
   "attachments": {},
   "cell_type": "markdown",
   "metadata": {},
   "source": [
    "## Loops"
   ]
  },
  {
   "cell_type": "code",
   "execution_count": null,
   "metadata": {},
   "outputs": [],
   "source": [
    "# Create dict\n",
    "my_dict = dict(\n",
    "    name='JC',\n",
    "    last_name='Chouinard',\n",
    "    domain='jcchouinard.com',\n",
    "    twitter='ChouinardJC'\n",
    ")"
   ]
  },
  {
   "cell_type": "code",
   "execution_count": null,
   "metadata": {},
   "outputs": [],
   "source": [
    "# Print Keys\n",
    "for x in my_dict:\n",
    "    print(x)"
   ]
  },
  {
   "cell_type": "code",
   "execution_count": null,
   "metadata": {},
   "outputs": [],
   "source": [
    "# Print Keys\n",
    "for x in my_dict.keys():\n",
    "    print(x)"
   ]
  },
  {
   "cell_type": "code",
   "execution_count": null,
   "metadata": {},
   "outputs": [],
   "source": [
    "# Print values\n",
    "for x in my_dict:\n",
    "    print(my_dict[x])"
   ]
  },
  {
   "cell_type": "code",
   "execution_count": null,
   "metadata": {},
   "outputs": [],
   "source": [
    "# print values\n",
    "for x in my_dict.values():\n",
    "    print(x)"
   ]
  },
  {
   "cell_type": "code",
   "execution_count": null,
   "metadata": {},
   "outputs": [],
   "source": [
    "# Print Keys and values\n",
    "for x in my_dict.items():\n",
    "    print(x[0], x[1])"
   ]
  },
  {
   "attachments": {},
   "cell_type": "markdown",
   "metadata": {},
   "source": [
    "## Other Python Dictionary Methods"
   ]
  },
  {
   "cell_type": "code",
   "execution_count": 15,
   "metadata": {},
   "outputs": [],
   "source": [
    "# Create dict\n",
    "my_dict = dict(\n",
    "    name='JC',\n",
    "    last_name='Chouinard',\n",
    "    domain='jcchouinard.com',\n",
    "    twitter='ChouinardJC'\n",
    ")"
   ]
  },
  {
   "cell_type": "code",
   "execution_count": 17,
   "metadata": {},
   "outputs": [
    {
     "data": {
      "text/plain": [
       "{'name': 'JC',\n",
       " 'last_name': 'Chouinard',\n",
       " 'domain': 'jcchouinard.com',\n",
       " 'twitter': 'ChouinardJC',\n",
       " 'employer': 'Tripadvisor'}"
      ]
     },
     "execution_count": 17,
     "metadata": {},
     "output_type": "execute_result"
    }
   ],
   "source": [
    "# Add if not existing\n",
    "my_dict.setdefault('employer','Tripadvisor')\n",
    "my_dict"
   ]
  },
  {
   "cell_type": "code",
   "execution_count": 18,
   "metadata": {},
   "outputs": [
    {
     "data": {
      "text/plain": [
       "{'name': 'JC',\n",
       " 'last_name': 'Chouinard',\n",
       " 'domain': 'jcchouinard.com',\n",
       " 'twitter': 'ChouinardJC',\n",
       " 'employer': 'Tripadvisor'}"
      ]
     },
     "execution_count": 18,
     "metadata": {},
     "output_type": "execute_result"
    }
   ],
   "source": [
    "# But don't change if key exist\n",
    "my_dict.setdefault('name','Jean-Christophe')\n",
    "my_dict"
   ]
  },
  {
   "cell_type": "code",
   "execution_count": 5,
   "metadata": {},
   "outputs": [
    {
     "data": {
      "text/plain": [
       "{}"
      ]
     },
     "execution_count": 5,
     "metadata": {},
     "output_type": "execute_result"
    }
   ],
   "source": [
    "# Empty dict\n",
    "my_dict.clear()\n",
    "my_dict"
   ]
  },
  {
   "attachments": {},
   "cell_type": "markdown",
   "metadata": {},
   "source": [
    "## Conclusion\n",
    "\n",
    "Help me and subscribe to this channel.\n",
    "\n",
    "Stay tuned for my upcoming Python for SEO course.\n",
    "\n",
    "### [jcchouinard.com](https://www.jcchouinard.com/)\n",
    "### [youtube.com/@jcchouinard](https://www.youtube.com/@jcchouinard)\n",
    "### [twitter.com/ChouinardJC](https://twitter.com/ChouinardJC)\n",
    "### [linkedin.com/in/jeanchristophechouinard](https://www.linkedin.com/in/jeanchristophechouinard)"
   ]
  }
 ],
 "metadata": {
  "kernelspec": {
   "display_name": "Python 3",
   "language": "python",
   "name": "python3"
  },
  "language_info": {
   "codemirror_mode": {
    "name": "ipython",
    "version": 3
   },
   "file_extension": ".py",
   "mimetype": "text/x-python",
   "name": "python",
   "nbconvert_exporter": "python",
   "pygments_lexer": "ipython3",
   "version": "3.10.6 (main, Aug 11 2022, 13:36:31) [Clang 13.1.6 (clang-1316.0.21.2.5)]"
  },
  "orig_nbformat": 4,
  "vscode": {
   "interpreter": {
    "hash": "b0fa6594d8f4cbf19f97940f81e996739fb7646882a419484c72d19e05852a7e"
   }
  }
 },
 "nbformat": 4,
 "nbformat_minor": 2
}
