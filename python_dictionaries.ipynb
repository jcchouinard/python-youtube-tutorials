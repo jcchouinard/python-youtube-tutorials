{
 "cells": [
  {
   "attachments": {},
   "cell_type": "markdown",
   "metadata": {},
   "source": [
    "# Python Tutorial: Python Dictionaries\n",
    "\n",
    "By: jcchouinard.com\n",
    "\n",
    "-----\n",
    "\n",
    "In Python, dictionaries are one  of the 4 data types used to store collections of data. \n",
    "\n",
    "(multiple items in a single variable)\n",
    "\n",
    "The 4 data types that store collections are: dictionaries, lists, sets and tuples, which we'll cover in other lessons."
   ]
  },
  {
   "cell_type": "code",
   "execution_count": null,
   "metadata": {},
   "outputs": [],
   "source": [
    "# Example Dictionary\n",
    "d = {\n",
    "        'name': 'JC', \n",
    "        'last_name': 'Chouinard'\n",
    "    }"
   ]
  },
  {
   "attachments": {},
   "cell_type": "markdown",
   "metadata": {},
   "source": [
    "## Dictionaries don't allow duplicates"
   ]
  },
  {
   "cell_type": "code",
   "execution_count": 2,
   "metadata": {},
   "outputs": [
    {
     "data": {
      "text/plain": [
       "{'name': 'JC'}"
      ]
     },
     "execution_count": 2,
     "metadata": {},
     "output_type": "execute_result"
    }
   ],
   "source": [
    "# No duplicates\n",
    "{\n",
    "    'name': 'JC', \n",
    "    'name': 'JC'\n",
    "}"
   ]
  },
  {
   "attachments": {},
   "cell_type": "markdown",
   "metadata": {},
   "source": [
    "## Dictionaries Have Keys and Values"
   ]
  },
  {
   "cell_type": "code",
   "execution_count": 3,
   "metadata": {},
   "outputs": [
    {
     "data": {
      "text/plain": [
       "1"
      ]
     },
     "execution_count": 3,
     "metadata": {},
     "output_type": "execute_result"
    }
   ],
   "source": [
    "## Key,value pairs\n",
    "d = {\n",
    "    'a':1,\n",
    "    'b':2,\n",
    "    'c':3\n",
    "}\n",
    "\n",
    "# Access the value using the key\n",
    "d['a']"
   ]
  },
  {
   "attachments": {},
   "cell_type": "markdown",
   "metadata": {},
   "source": [
    "## Values Can Have Multiple Data Types"
   ]
  },
  {
   "cell_type": "code",
   "execution_count": 4,
   "metadata": {},
   "outputs": [
    {
     "data": {
      "text/plain": [
       "bool"
      ]
     },
     "execution_count": 4,
     "metadata": {},
     "output_type": "execute_result"
    }
   ],
   "source": [
    "# Storing data types in dicts\n",
    "d = {\n",
    "    'str':'hello',\n",
    "    'bool':False,\n",
    "    'list':[1,2,3],\n",
    "    'int':10\n",
    "}\n",
    "type(d)\n",
    "type(d['bool'])"
   ]
  },
  {
   "attachments": {},
   "cell_type": "markdown",
   "metadata": {},
   "source": [
    "## Creating a Dictionary"
   ]
  },
  {
   "cell_type": "code",
   "execution_count": null,
   "metadata": {},
   "outputs": [],
   "source": [
    "# Constructor\n",
    "dict(name='JC',last_name='Chouinard')"
   ]
  },
  {
   "attachments": {},
   "cell_type": "markdown",
   "metadata": {},
   "source": [
    "## Searching a Dictionary"
   ]
  },
  {
   "cell_type": "code",
   "execution_count": 8,
   "metadata": {},
   "outputs": [],
   "source": [
    "# create dict \n",
    "my_dict = dict(\n",
    "    name='David',\n",
    "    last_name='Attenborough',\n",
    "    birth='1926-05-09',\n",
    "    occupations=['Broadcaster','naturalist'],\n",
    "    family={\n",
    "        'spouse':'Jane Ebsworth Oriel',\n",
    "        'children':2\n",
    "        }\n",
    "    )"
   ]
  },
  {
   "cell_type": "code",
   "execution_count": 9,
   "metadata": {},
   "outputs": [
    {
     "data": {
      "text/plain": [
       "'David'"
      ]
     },
     "execution_count": 9,
     "metadata": {},
     "output_type": "execute_result"
    }
   ],
   "source": [
    "# Get\n",
    "my_dict.get('name')"
   ]
  },
  {
   "cell_type": "code",
   "execution_count": 13,
   "metadata": {},
   "outputs": [],
   "source": [
    "# Get\n",
    "my_dict.get('spouse')"
   ]
  },
  {
   "cell_type": "code",
   "execution_count": 10,
   "metadata": {},
   "outputs": [
    {
     "data": {
      "text/plain": [
       "dict_keys(['name', 'last_name', 'birth', 'occupations', 'family'])"
      ]
     },
     "execution_count": 10,
     "metadata": {},
     "output_type": "execute_result"
    }
   ],
   "source": [
    "# Keys\n",
    "my_dict.keys()"
   ]
  },
  {
   "cell_type": "code",
   "execution_count": 14,
   "metadata": {},
   "outputs": [
    {
     "data": {
      "text/plain": [
       "'Jane Ebsworth Oriel'"
      ]
     },
     "execution_count": 14,
     "metadata": {},
     "output_type": "execute_result"
    }
   ],
   "source": [
    "# Nested Dict\n",
    "my_dict['family'].get('spouse')"
   ]
  },
  {
   "cell_type": "code",
   "execution_count": 12,
   "metadata": {},
   "outputs": [
    {
     "data": {
      "text/plain": [
       "dict_values(['David', 'Attenborough', '1926-05-08', ['Broadcaster', 'naturalist'], {'spouse': 'Jane Ebsworth Oriel', 'children': 2}])"
      ]
     },
     "execution_count": 12,
     "metadata": {},
     "output_type": "execute_result"
    }
   ],
   "source": [
    "# Values\n",
    "my_dict.values()"
   ]
  },
  {
   "cell_type": "code",
   "execution_count": 11,
   "metadata": {},
   "outputs": [
    {
     "data": {
      "text/plain": [
       "dict_items([('name', 'David'), ('last_name', 'Attenborough'), ('birth', '1926-05-08'), ('occupations', ['Broadcaster', 'naturalist']), ('family', {'spouse': 'Jane Ebsworth Oriel', 'children': 2})])"
      ]
     },
     "execution_count": 11,
     "metadata": {},
     "output_type": "execute_result"
    }
   ],
   "source": [
    "# Items\n",
    "my_dict.items()"
   ]
  },
  {
   "attachments": {},
   "cell_type": "markdown",
   "metadata": {},
   "source": [
    "## Modify Values"
   ]
  },
  {
   "cell_type": "code",
   "execution_count": 17,
   "metadata": {},
   "outputs": [
    {
     "data": {
      "text/plain": [
       "{'name': 'David',\n",
       " 'last_name': 'Attenborough',\n",
       " 'birth': '1926-05-08',\n",
       " 'occupations': ['Broadcaster', 'naturalist'],\n",
       " 'family': {'spouse': 'Jane Ebsworth Oriel', 'children': 2}}"
      ]
     },
     "execution_count": 17,
     "metadata": {},
     "output_type": "execute_result"
    }
   ],
   "source": [
    "my_dict['birth'] = '1926-05-08'\n",
    "my_dict"
   ]
  },
  {
   "attachments": {},
   "cell_type": "markdown",
   "metadata": {},
   "source": [
    "## Add Items"
   ]
  },
  {
   "cell_type": "code",
   "execution_count": 19,
   "metadata": {},
   "outputs": [
    {
     "data": {
      "text/plain": [
       "{'name': 'David',\n",
       " 'last_name': 'Attenborough',\n",
       " 'birth': '1926-05-08',\n",
       " 'occupations': ['Broadcaster', 'naturalist'],\n",
       " 'family': {'spouse': 'Jane Ebsworth Oriel', 'children': 2},\n",
       " 'known_for': 'Wildife Documentaries'}"
      ]
     },
     "execution_count": 19,
     "metadata": {},
     "output_type": "execute_result"
    }
   ],
   "source": [
    "my_dict['known_for'] = 'Wildife Documentaries'\n",
    "my_dict"
   ]
  },
  {
   "cell_type": "code",
   "execution_count": 20,
   "metadata": {},
   "outputs": [
    {
     "data": {
      "text/plain": [
       "{'name': 'David',\n",
       " 'last_name': 'Attenborough',\n",
       " 'birth': '1926-05-08',\n",
       " 'occupations': ['Broadcaster', 'naturalist'],\n",
       " 'family': {'spouse': 'Jane Ebsworth Oriel', 'children': 2},\n",
       " 'known_for': 'Planet Earth',\n",
       " 'works_for': 'BBC'}"
      ]
     },
     "execution_count": 20,
     "metadata": {},
     "output_type": "execute_result"
    }
   ],
   "source": [
    "# Perform multiple changes at once\n",
    "my_dict.update({\n",
    "    'known_for':'Planet Earth',\n",
    "    'works_for':'BBC'\n",
    "})\n",
    "\n",
    "my_dict"
   ]
  },
  {
   "attachments": {},
   "cell_type": "markdown",
   "metadata": {},
   "source": [
    "## Remove Items"
   ]
  },
  {
   "cell_type": "code",
   "execution_count": 22,
   "metadata": {},
   "outputs": [
    {
     "ename": "KeyError",
     "evalue": "'birth'",
     "output_type": "error",
     "traceback": [
      "\u001b[0;31m---------------------------------------------------------------------------\u001b[0m",
      "\u001b[0;31mKeyError\u001b[0m                                  Traceback (most recent call last)",
      "\u001b[1;32m/Users/jchouinard/Documents/github_data/python-youtube-tutorials/python_dictionaries.ipynb Cell 25\u001b[0m in \u001b[0;36m<cell line: 1>\u001b[0;34m()\u001b[0m\n\u001b[0;32m----> <a href='vscode-notebook-cell:/Users/jchouinard/Documents/github_data/python-youtube-tutorials/python_dictionaries.ipynb#X36sZmlsZQ%3D%3D?line=0'>1</a>\u001b[0m my_dict\u001b[39m.\u001b[39;49mpop(\u001b[39m'\u001b[39;49m\u001b[39mbirth\u001b[39;49m\u001b[39m'\u001b[39;49m)\n\u001b[1;32m      <a href='vscode-notebook-cell:/Users/jchouinard/Documents/github_data/python-youtube-tutorials/python_dictionaries.ipynb#X36sZmlsZQ%3D%3D?line=1'>2</a>\u001b[0m my_dict\n",
      "\u001b[0;31mKeyError\u001b[0m: 'birth'"
     ]
    }
   ],
   "source": [
    "# Remove specific Item\n",
    "my_dict.pop('birth')\n",
    "my_dict"
   ]
  },
  {
   "cell_type": "code",
   "execution_count": 23,
   "metadata": {},
   "outputs": [
    {
     "data": {
      "text/plain": [
       "{'name': 'David',\n",
       " 'last_name': 'Attenborough',\n",
       " 'occupations': ['Broadcaster', 'naturalist'],\n",
       " 'family': {'spouse': 'Jane Ebsworth Oriel', 'children': 2},\n",
       " 'known_for': 'Planet Earth'}"
      ]
     },
     "execution_count": 23,
     "metadata": {},
     "output_type": "execute_result"
    }
   ],
   "source": [
    "# Remove last item\n",
    "my_dict.popitem()\n",
    "my_dict"
   ]
  },
  {
   "attachments": {},
   "cell_type": "markdown",
   "metadata": {},
   "source": [
    "## Loops"
   ]
  },
  {
   "cell_type": "code",
   "execution_count": null,
   "metadata": {},
   "outputs": [],
   "source": [
    "# Create dict\n",
    "my_dict = dict(\n",
    "    name='JC',\n",
    "    last_name='Chouinard',\n",
    "    domain='jcchouinard.com',\n",
    "    twitter='ChouinardJC'\n",
    ")"
   ]
  },
  {
   "cell_type": "code",
   "execution_count": 25,
   "metadata": {},
   "outputs": [
    {
     "name": "stdout",
     "output_type": "stream",
     "text": [
      "name\n",
      "last_name\n",
      "domain\n",
      "twitter\n"
     ]
    }
   ],
   "source": [
    "# Print Keys\n",
    "for x in my_dict:\n",
    "    print(x)"
   ]
  },
  {
   "cell_type": "code",
   "execution_count": 28,
   "metadata": {},
   "outputs": [
    {
     "name": "stdout",
     "output_type": "stream",
     "text": [
      "name\n",
      "last_name\n",
      "domain\n",
      "twitter\n"
     ]
    }
   ],
   "source": [
    "# Print Keys\n",
    "for x in my_dict.keys():\n",
    "    print(x)"
   ]
  },
  {
   "cell_type": "code",
   "execution_count": 26,
   "metadata": {},
   "outputs": [
    {
     "name": "stdout",
     "output_type": "stream",
     "text": [
      "JC\n",
      "Chouinard\n",
      "jcchouinard.com\n",
      "ChouinardJC\n"
     ]
    }
   ],
   "source": [
    "# Print values\n",
    "for x in my_dict:\n",
    "    print(my_dict[x])"
   ]
  },
  {
   "cell_type": "code",
   "execution_count": 27,
   "metadata": {},
   "outputs": [
    {
     "name": "stdout",
     "output_type": "stream",
     "text": [
      "JC\n",
      "Chouinard\n",
      "jcchouinard.com\n",
      "ChouinardJC\n"
     ]
    }
   ],
   "source": [
    "# print values\n",
    "for x in my_dict.values():\n",
    "    print(x)"
   ]
  },
  {
   "cell_type": "code",
   "execution_count": null,
   "metadata": {},
   "outputs": [],
   "source": [
    "# Print Keys and values\n",
    "for x in my_dict.items():\n",
    "    print(x[0], x[1])"
   ]
  },
  {
   "attachments": {},
   "cell_type": "markdown",
   "metadata": {},
   "source": [
    "## Conclusion\n",
    "\n",
    "Help me and subscribe to this channel.\n",
    "\n",
    "Stay tuned for my upcoming Python for SEO course.\n",
    "\n",
    "### [jcchouinard.com](https://www.jcchouinard.com/)\n",
    "### [youtube.com/@jcchouinard](https://www.youtube.com/@jcchouinard)\n",
    "### [twitter.com/ChouinardJC](https://twitter.com/ChouinardJC)\n",
    "### [linkedin.com/in/jeanchristophechouinard](https://www.linkedin.com/in/jeanchristophechouinard)"
   ]
  }
 ],
 "metadata": {
  "kernelspec": {
   "display_name": "Python 3",
   "language": "python",
   "name": "python3"
  },
  "language_info": {
   "codemirror_mode": {
    "name": "ipython",
    "version": 3
   },
   "file_extension": ".py",
   "mimetype": "text/x-python",
   "name": "python",
   "nbconvert_exporter": "python",
   "pygments_lexer": "ipython3",
   "version": "3.10.6"
  },
  "orig_nbformat": 4,
  "vscode": {
   "interpreter": {
    "hash": "b0fa6594d8f4cbf19f97940f81e996739fb7646882a419484c72d19e05852a7e"
   }
  }
 },
 "nbformat": 4,
 "nbformat_minor": 2
}
