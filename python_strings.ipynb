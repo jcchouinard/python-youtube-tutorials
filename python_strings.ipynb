{
 "cells": [
  {
   "attachments": {},
   "cell_type": "markdown",
   "metadata": {},
   "source": [
    "# Python Tutorial: Python Strings\n",
    "\n",
    "By: jcchouinard.com\n",
    "\n",
    "-----\n",
    "\n",
    "## What are Strings\n",
    "\n",
    "Strings in python are used to define text component and stored as a `str` data type.\n",
    "\n",
    "Strings can be surrounded using quotation marks. \n",
    "- single-quote (`'hello'`) \n",
    "- double-quote (`\"hello\"`)"
   ]
  },
  {
   "attachments": {},
   "cell_type": "markdown",
   "metadata": {},
   "source": [
    "## Examples"
   ]
  },
  {
   "cell_type": "code",
   "execution_count": 2,
   "metadata": {},
   "outputs": [
    {
     "name": "stdout",
     "output_type": "stream",
     "text": [
      "hello\n",
      "hello\n"
     ]
    }
   ],
   "source": [
    "print('hello')\n",
    "print(\"hello\")"
   ]
  },
  {
   "attachments": {},
   "cell_type": "markdown",
   "metadata": {},
   "source": [
    "## Assign String to Variable"
   ]
  },
  {
   "cell_type": "code",
   "execution_count": 2,
   "metadata": {},
   "outputs": [
    {
     "data": {
      "text/plain": [
       "'hello'"
      ]
     },
     "execution_count": 2,
     "metadata": {},
     "output_type": "execute_result"
    }
   ],
   "source": [
    "# String Assignment\n",
    "var = 'hello'\n",
    "var"
   ]
  },
  {
   "attachments": {},
   "cell_type": "markdown",
   "metadata": {},
   "source": [
    "## Multiline Strings"
   ]
  },
  {
   "cell_type": "code",
   "execution_count": 4,
   "metadata": {},
   "outputs": [
    {
     "name": "stdout",
     "output_type": "stream",
     "text": [
      "\n",
      "Hello \n",
      "I am \n",
      "JC\n",
      "\n"
     ]
    }
   ],
   "source": [
    "# Use triple quotes to assign multiline\n",
    "x = '''\n",
    "Hello, \n",
    "I am \n",
    "JC\n",
    "'''\n",
    "print(x)"
   ]
  },
  {
   "cell_type": "code",
   "execution_count": null,
   "metadata": {},
   "outputs": [],
   "source": [
    "# Or\n",
    "x = \"\"\"\n",
    "Hello, \n",
    "I am \n",
    "JC\n",
    "\"\"\"\n",
    "print(x)"
   ]
  },
  {
   "attachments": {},
   "cell_type": "markdown",
   "metadata": {},
   "source": [
    "## Nested Strings"
   ]
  },
  {
   "cell_type": "code",
   "execution_count": 6,
   "metadata": {},
   "outputs": [
    {
     "name": "stdout",
     "output_type": "stream",
     "text": [
      "\n",
      "My friend said: \n",
      "'hey, listen to me'\n",
      "\n"
     ]
    }
   ],
   "source": [
    "# Nested Strings\n",
    "x = \"\"\"\n",
    "My friend said: \n",
    "'hey, listen to me'\n",
    "\"\"\"\n",
    "print(x)"
   ]
  },
  {
   "cell_type": "code",
   "execution_count": 9,
   "metadata": {},
   "outputs": [
    {
     "name": "stdout",
     "output_type": "stream",
     "text": [
      "\n",
      "My friend said: \n",
      "'hey, listen to what this guy told me. He said:\n",
      "`it is possible to triple-nest strings in Python!`.\n",
      "What a dumb idea...'.\n",
      "What a jerk!\n",
      "\n"
     ]
    }
   ],
   "source": [
    "# Triple Nest\n",
    "x = \"\"\"\n",
    "My friend said: \n",
    "'hey, listen to what this guy told me. He said:\n",
    "`it is possible to triple-nest strings in Python!`.\n",
    "What a dumb idea...'.\n",
    "What a jerk!\n",
    "\"\"\"\n",
    "print(x)"
   ]
  },
  {
   "attachments": {},
   "cell_type": "markdown",
   "metadata": {},
   "source": [
    "## Indexing Strings"
   ]
  },
  {
   "cell_type": "code",
   "execution_count": 10,
   "metadata": {},
   "outputs": [
    {
     "name": "stdout",
     "output_type": "stream",
     "text": [
      "p\n"
     ]
    }
   ],
   "source": [
    "# Selecting first letter of a string\n",
    "x = 'python'\n",
    "print(x[0])"
   ]
  },
  {
   "cell_type": "code",
   "execution_count": 11,
   "metadata": {},
   "outputs": [
    {
     "name": "stdout",
     "output_type": "stream",
     "text": [
      "n\n"
     ]
    }
   ],
   "source": [
    "# Selecting last letter of a string\n",
    "x = 'python'\n",
    "print(x[-1])"
   ]
  },
  {
   "cell_type": "code",
   "execution_count": 12,
   "metadata": {},
   "outputs": [
    {
     "name": "stdout",
     "output_type": "stream",
     "text": [
      "p\n",
      "y\n",
      "t\n",
      "h\n",
      "o\n",
      "n\n"
     ]
    }
   ],
   "source": [
    "# looping\n",
    "for i in 'python':\n",
    "    print(i)"
   ]
  },
  {
   "attachments": {},
   "cell_type": "markdown",
   "metadata": {},
   "source": [
    "## Slicing Strings"
   ]
  },
  {
   "cell_type": "code",
   "execution_count": 21,
   "metadata": {},
   "outputs": [
    {
     "name": "stdout",
     "output_type": "stream",
     "text": [
      "lic\n"
     ]
    }
   ],
   "source": [
    "# Get part of string\n",
    "x = 'Slice me like a cake'\n",
    "print(x[1:4])\n",
    "# 4 is excluded"
   ]
  },
  {
   "cell_type": "code",
   "execution_count": 24,
   "metadata": {},
   "outputs": [
    {
     "name": "stdout",
     "output_type": "stream",
     "text": [
      "Slice me \n"
     ]
    }
   ],
   "source": [
    "# Slice from the start\n",
    "x = 'Slice me like a cake'\n",
    "print(x[:9])"
   ]
  },
  {
   "cell_type": "code",
   "execution_count": 25,
   "metadata": {},
   "outputs": [
    {
     "name": "stdout",
     "output_type": "stream",
     "text": [
      "like a cake\n"
     ]
    }
   ],
   "source": [
    "# Slice from index to the end\n",
    "x = 'Slice me like a cake'\n",
    "print(x[9:])"
   ]
  },
  {
   "cell_type": "code",
   "execution_count": 28,
   "metadata": {},
   "outputs": [
    {
     "name": "stdout",
     "output_type": "stream",
     "text": [
      "Slice me like a cak\n"
     ]
    }
   ],
   "source": [
    "# Negative slicing\n",
    "x = 'Slice me like a cake'\n",
    "print(x[:-1])"
   ]
  },
  {
   "attachments": {},
   "cell_type": "markdown",
   "metadata": {},
   "source": [
    "## Investigate Strings"
   ]
  },
  {
   "cell_type": "code",
   "execution_count": 37,
   "metadata": {},
   "outputs": [
    {
     "data": {
      "text/plain": [
       "25"
      ]
     },
     "execution_count": 37,
     "metadata": {},
     "output_type": "execute_result"
    }
   ],
   "source": [
    "# How long is a string\n",
    "x = 'Jean-Christophe Chouinard'\n",
    "len(x)"
   ]
  },
  {
   "cell_type": "code",
   "execution_count": 38,
   "metadata": {},
   "outputs": [
    {
     "data": {
      "text/plain": [
       "2"
      ]
     },
     "execution_count": 38,
     "metadata": {},
     "output_type": "execute_result"
    }
   ],
   "source": [
    "# how many e's\n",
    "x.count('e')"
   ]
  },
  {
   "cell_type": "code",
   "execution_count": 20,
   "metadata": {},
   "outputs": [
    {
     "name": "stdout",
     "output_type": "stream",
     "text": [
      "yes, it is\n"
     ]
    }
   ],
   "source": [
    "# Does it contain?\n",
    "x = 'Jean-Christophe Chouinard'\n",
    "\n",
    "if 'christ' in x.lower():\n",
    "    print('yes, it is') \n",
    "else:\n",
    "    print('no, it is not')"
   ]
  },
  {
   "attachments": {},
   "cell_type": "markdown",
   "metadata": {},
   "source": [
    "## Modify Strings"
   ]
  },
  {
   "cell_type": "code",
   "execution_count": 34,
   "metadata": {},
   "outputs": [
    {
     "name": "stdout",
     "output_type": "stream",
     "text": [
      "jean-christophe chouinard\n",
      "JEAN-CHRISTOPHE CHOUINARD\n",
      "Jean-Christophe Chouinard\n"
     ]
    }
   ],
   "source": [
    "# Lower Case\n",
    "x = 'Jean-Christophe Chouinard'\n",
    "\n",
    "# Convert casing\n",
    "low = x.lower()\n",
    "up = x.upper()\n",
    "title = x.title()\n",
    "\n",
    "print(low)\n",
    "print(up)\n",
    "print(title)"
   ]
  },
  {
   "cell_type": "code",
   "execution_count": 31,
   "metadata": {},
   "outputs": [
    {
     "name": "stdout",
     "output_type": "stream",
     "text": [
      "The cow jumped over the moon!\n"
     ]
    }
   ],
   "source": [
    "# Remove Spaces Before and after\n",
    "x = '   The cow jumped over the moon!    '\n",
    "\n",
    "print(x.strip())"
   ]
  },
  {
   "cell_type": "code",
   "execution_count": 32,
   "metadata": {},
   "outputs": [
    {
     "data": {
      "text/plain": [
       "'Thecowjumpedoverthemoon!'"
      ]
     },
     "execution_count": 32,
     "metadata": {},
     "output_type": "execute_result"
    }
   ],
   "source": [
    "# Remove all whitespaces\n",
    "x = '   The cow jumped over the moon!    '\n",
    "\n",
    "x.replace(' ', '')"
   ]
  },
  {
   "cell_type": "code",
   "execution_count": 49,
   "metadata": {},
   "outputs": [
    {
     "data": {
      "text/plain": [
       "'vbgg#0rn'"
      ]
     },
     "execution_count": 49,
     "metadata": {},
     "output_type": "execute_result"
    }
   ],
   "source": [
    "# Replace letters\n",
    "encrypt = {\n",
    "    'a':'b',\n",
    "    's':'g',\n",
    "    'o':'0',\n",
    "    'p':'v',\n",
    "    'w':'#',\n",
    "    'd':'n'\n",
    "}\n",
    "\n",
    "x = 'password'\n",
    "\n",
    "for k,v in encrypt.items():\n",
    "    x = x.replace(k, v)\n",
    "\n",
    "x"
   ]
  },
  {
   "cell_type": "code",
   "execution_count": 50,
   "metadata": {},
   "outputs": [
    {
     "data": {
      "text/plain": [
       "'password'"
      ]
     },
     "execution_count": 50,
     "metadata": {},
     "output_type": "execute_result"
    }
   ],
   "source": [
    "for k,v in encrypt.items():\n",
    "    x = x.replace(v, k)\n",
    "\n",
    "x"
   ]
  },
  {
   "cell_type": "code",
   "execution_count": 52,
   "metadata": {},
   "outputs": [
    {
     "data": {
      "text/plain": [
       "['hello', ' world']"
      ]
     },
     "execution_count": 52,
     "metadata": {},
     "output_type": "execute_result"
    }
   ],
   "source": [
    "# Split\n",
    "x = 'hello, world'\n",
    "splitx = x.split(',')\n",
    "splitx"
   ]
  },
  {
   "cell_type": "code",
   "execution_count": 55,
   "metadata": {},
   "outputs": [
    {
     "data": {
      "text/plain": [
       "'hello, world'"
      ]
     },
     "execution_count": 55,
     "metadata": {},
     "output_type": "execute_result"
    }
   ],
   "source": [
    "# Join\n",
    "','.join(splitx)"
   ]
  },
  {
   "attachments": {},
   "cell_type": "markdown",
   "metadata": {},
   "source": [
    "## Concatenate Strings"
   ]
  },
  {
   "cell_type": "code",
   "execution_count": 56,
   "metadata": {},
   "outputs": [
    {
     "data": {
      "text/plain": [
       "'Jean-ChristopheChouinard'"
      ]
     },
     "execution_count": 56,
     "metadata": {},
     "output_type": "execute_result"
    }
   ],
   "source": [
    "# Combine string variables\n",
    "x = 'Jean-Christophe'\n",
    "y = 'Chouinard'\n",
    "\n",
    "x + y"
   ]
  },
  {
   "cell_type": "code",
   "execution_count": 57,
   "metadata": {},
   "outputs": [
    {
     "data": {
      "text/plain": [
       "'Jean-Christophe Chouinard'"
      ]
     },
     "execution_count": 57,
     "metadata": {},
     "output_type": "execute_result"
    }
   ],
   "source": [
    "# Add space in concate\n",
    "x + ' ' + y"
   ]
  },
  {
   "attachments": {},
   "cell_type": "markdown",
   "metadata": {},
   "source": [
    "## F-Strings"
   ]
  },
  {
   "cell_type": "code",
   "execution_count": 59,
   "metadata": {},
   "outputs": [
    {
     "name": "stdout",
     "output_type": "stream",
     "text": [
      "Hello, I am JC and I am 12!\n"
     ]
    }
   ],
   "source": [
    "# Add variable to string\n",
    "name = 'JC'\n",
    "age = 12\n",
    "\n",
    "s = f'Hello, I am {name} and I am {age}!'\n",
    "\n",
    "print(s)"
   ]
  },
  {
   "cell_type": "code",
   "execution_count": 60,
   "metadata": {},
   "outputs": [
    {
     "name": "stdout",
     "output_type": "stream",
     "text": [
      "Hello, I am JC and I am 36!\n"
     ]
    }
   ],
   "source": [
    "# Count\n",
    "name = 'JC'\n",
    "age = 12\n",
    "\n",
    "s = f'Hello, I am {name} and I am {age * 3}!'\n",
    "\n",
    "print(s)"
   ]
  },
  {
   "cell_type": "code",
   "execution_count": 62,
   "metadata": {},
   "outputs": [
    {
     "name": "stdout",
     "output_type": "stream",
     "text": [
      "Hello, I am jc and I am 12!\n"
     ]
    }
   ],
   "source": [
    "# Apply methods\n",
    "name = 'JC'\n",
    "age = 12\n",
    "\n",
    "s = f'Hello, I am {name.lower()} and I am {age}!'\n",
    "\n",
    "print(s)"
   ]
  },
  {
   "attachments": {},
   "cell_type": "markdown",
   "metadata": {},
   "source": [
    "## Python Strings Methods\n",
    "\n",
    "|Method|What it does|\n",
    "|---|---|\n",
    "|capitalize()|Converts the first character to upper case|\n",
    "|count()|Cont occurrences of a value in string|\n",
    "|encode()|Returns encoded version of a string|\n",
    "|endswith()|Returns True if string ends with a value|\n",
    "|find()|Returns position of a value if found in string|\n",
    "|isalnum()|Returns True if all characters in the string are alphanumeric|\n",
    "|isalpha()|Returns True if all characters in the string are in the alphabet|\n",
    "|isnumeric()|Returns True if all characters in the string are numeric|\n",
    "|islower()|Returns True if all characters in the string are lower case|\n",
    "|join()|Converts the elements of an iterable into a string|\n",
    "|lower()|Converts a string into lower case|\n",
    "|replace('start','end')|Returns a string where a specified value is replaced with a specified value|\n",
    "|split()|Splits the string at the specified separator, and returns a list|\n",
    "|strip()|Returns a trimmed version of the string|\n",
    "|title()|Converts the first character of each word to upper case|\n",
    "|upper()|Converts a string into upper case|\n",
    "\n",
    "[source](https://www.w3schools.com/python/python_ref_string.asp)"
   ]
  }
 ],
 "metadata": {
  "kernelspec": {
   "display_name": "Python 3",
   "language": "python",
   "name": "python3"
  },
  "language_info": {
   "codemirror_mode": {
    "name": "ipython",
    "version": 3
   },
   "file_extension": ".py",
   "mimetype": "text/x-python",
   "name": "python",
   "nbconvert_exporter": "python",
   "pygments_lexer": "ipython3",
   "version": "3.12.2"
  },
  "orig_nbformat": 4,
  "vscode": {
   "interpreter": {
    "hash": "b0fa6594d8f4cbf19f97940f81e996739fb7646882a419484c72d19e05852a7e"
   }
  }
 },
 "nbformat": 4,
 "nbformat_minor": 2
}
